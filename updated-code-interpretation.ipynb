{
 "cells": [
  {
   "cell_type": "markdown",
   "id": "12b8f712",
   "metadata": {
    "papermill": {
     "duration": 0.012326,
     "end_time": "2024-06-12T15:19:31.994903",
     "exception": false,
     "start_time": "2024-06-12T15:19:31.982577",
     "status": "completed"
    },
    "tags": []
   },
   "source": [
    "## Forked from https://www.kaggle.com/code/abdurrafae/improved-code-interpretation"
   ]
  },
  {
   "cell_type": "markdown",
   "id": "70765830",
   "metadata": {
    "papermill": {
     "duration": 0.010843,
     "end_time": "2024-06-12T15:19:32.017376",
     "exception": false,
     "start_time": "2024-06-12T15:19:32.006533",
     "status": "completed"
    },
    "tags": []
   },
   "source": [
    "**Lewis:** the only changes in this notebook are those needed to run the original one with the new Kaggle evaluation API"
   ]
  },
  {
   "cell_type": "code",
   "execution_count": 1,
   "id": "107a2c32",
   "metadata": {
    "execution": {
     "iopub.execute_input": "2024-06-12T15:19:32.041179Z",
     "iopub.status.busy": "2024-06-12T15:19:32.040583Z",
     "iopub.status.idle": "2024-06-12T15:19:32.046273Z",
     "shell.execute_reply": "2024-06-12T15:19:32.045217Z"
    },
    "papermill": {
     "duration": 0.020085,
     "end_time": "2024-06-12T15:19:32.048415",
     "exception": false,
     "start_time": "2024-06-12T15:19:32.028330",
     "status": "completed"
    },
    "tags": []
   },
   "outputs": [],
   "source": [
    "## Forked From  https://kaggle.com/code/xiaoz259/pure-rng/notebook\n",
    "\n",
    "\n",
    "# credits:\n",
    "# https://www.kaggle.com/code/olyatsimboy/aimo-openmath-mistral-baseline\n",
    "# https://www.kaggle.com/code/aatiffraz/prompt-prediction-w-mixtral-mistral7b-gemma-llama\n",
    "# https://www.kaggle.com/code/thedrcat/aimo-mixtral-baseline"
   ]
  },
  {
   "cell_type": "code",
   "execution_count": 2,
   "id": "6a7873fd",
   "metadata": {
    "execution": {
     "iopub.execute_input": "2024-06-12T15:19:32.071606Z",
     "iopub.status.busy": "2024-06-12T15:19:32.071288Z",
     "iopub.status.idle": "2024-06-12T15:19:32.082678Z",
     "shell.execute_reply": "2024-06-12T15:19:32.081675Z"
    },
    "papermill": {
     "duration": 0.025598,
     "end_time": "2024-06-12T15:19:32.084899",
     "exception": false,
     "start_time": "2024-06-12T15:19:32.059301",
     "status": "completed"
    },
    "tags": []
   },
   "outputs": [],
   "source": [
    "import time\n",
    "\n",
    "NOTEBOOK_START_TIME = time.time()"
   ]
  },
  {
   "cell_type": "code",
   "execution_count": 3,
   "id": "eb50ecaf",
   "metadata": {
    "execution": {
     "iopub.execute_input": "2024-06-12T15:19:32.108513Z",
     "iopub.status.busy": "2024-06-12T15:19:32.107689Z",
     "iopub.status.idle": "2024-06-12T15:19:32.918894Z",
     "shell.execute_reply": "2024-06-12T15:19:32.918128Z"
    },
    "papermill": {
     "duration": 0.82552,
     "end_time": "2024-06-12T15:19:32.921303",
     "exception": false,
     "start_time": "2024-06-12T15:19:32.095783",
     "status": "completed"
    },
    "tags": []
   },
   "outputs": [],
   "source": [
    "import aimo\n",
    "\n",
    "env = aimo.make_env()\n",
    "iter_test = env.iter_test()\n"
   ]
  },
  {
   "cell_type": "markdown",
   "id": "65f34f28",
   "metadata": {
    "papermill": {
     "duration": 0.00954,
     "end_time": "2024-06-12T15:19:32.941086",
     "exception": false,
     "start_time": "2024-06-12T15:19:32.931546",
     "status": "completed"
    },
    "tags": []
   },
   "source": [
    "TO-DO\n",
    "\n",
    "Change temperature as the question goes longer\n",
    "Change temperature based on question lenght"
   ]
  },
  {
   "cell_type": "markdown",
   "id": "3ea789c8",
   "metadata": {
    "papermill": {
     "duration": 0.010144,
     "end_time": "2024-06-12T15:19:32.960519",
     "exception": false,
     "start_time": "2024-06-12T15:19:32.950375",
     "status": "completed"
    },
    "tags": []
   },
   "source": [
    "# Zero-shot MMOS-DeepSeekMath-7B with self-consistency and generated code reasoning evaluation\n",
    "\n",
    "Self-consistency is a modification of the standard greedy decoding in reasoning pipelines via sampling several diverse answers followed by aggregation, e.g., most common answer ([SC-CoT paper](https://arxiv.org/pdf/2203.11171.pdf)).\n",
    "\n",
    "In this kernel, we will consider MMOS-DeepSeekMath-7B RL-tuned backbone; in my experiments, this model produces more consistent code reasoning and the code block execution will allow us to decrease arithmetic hallucinations."
   ]
  },
  {
   "cell_type": "code",
   "execution_count": 4,
   "id": "f7145ad8",
   "metadata": {
    "execution": {
     "iopub.execute_input": "2024-06-12T15:19:32.981383Z",
     "iopub.status.busy": "2024-06-12T15:19:32.980969Z",
     "iopub.status.idle": "2024-06-12T15:19:32.986376Z",
     "shell.execute_reply": "2024-06-12T15:19:32.985495Z"
    },
    "papermill": {
     "duration": 0.01817,
     "end_time": "2024-06-12T15:19:32.988297",
     "exception": false,
     "start_time": "2024-06-12T15:19:32.970127",
     "status": "completed"
    },
    "tags": []
   },
   "outputs": [],
   "source": [
    "DEBUG = False\n",
    "\n",
    "QUANT = False\n",
    "\n",
    "if QUANT:\n",
    "    from transformers import BitsAndBytesConfig\n",
    "    quantization_config = BitsAndBytesConfig(\n",
    "        load_in_4bit = True,\n",
    "        bnb_4bit_quant_type=\"nf4\",\n",
    "        bnb_4bit_compute_dtype=torch.bfloat16,\n",
    "        bnb_4bit_use_double_quant=True,\n",
    "    )\n",
    "\n",
    "USE_PAST_KEY = True"
   ]
  },
  {
   "cell_type": "code",
   "execution_count": 5,
   "id": "f9d8e944",
   "metadata": {
    "execution": {
     "iopub.execute_input": "2024-06-12T15:19:33.008696Z",
     "iopub.status.busy": "2024-06-12T15:19:33.008117Z",
     "iopub.status.idle": "2024-06-12T15:19:33.014276Z",
     "shell.execute_reply": "2024-06-12T15:19:33.013406Z"
    },
    "papermill": {
     "duration": 0.01863,
     "end_time": "2024-06-12T15:19:33.016327",
     "exception": false,
     "start_time": "2024-06-12T15:19:32.997697",
     "status": "completed"
    },
    "tags": []
   },
   "outputs": [],
   "source": [
    "if QUANT:\n",
    "    !pip install -U /kaggle/input/accelerate-wheelwhl/accelerate-0.29.1-py3-none-any.whl -qq\n",
    "    !pip install -U /kaggle/input/bitsandbytes-0-42-0-py3-none-any-whl/bitsandbytes-0.42.0-py3-none-any.whl -qq"
   ]
  },
  {
   "cell_type": "code",
   "execution_count": 6,
   "id": "f24f3ef6",
   "metadata": {
    "execution": {
     "iopub.execute_input": "2024-06-12T15:19:33.037299Z",
     "iopub.status.busy": "2024-06-12T15:19:33.036446Z",
     "iopub.status.idle": "2024-06-12T15:19:50.072961Z",
     "shell.execute_reply": "2024-06-12T15:19:50.071906Z"
    },
    "papermill": {
     "duration": 17.049381,
     "end_time": "2024-06-12T15:19:50.075381",
     "exception": false,
     "start_time": "2024-06-12T15:19:33.026000",
     "status": "completed"
    },
    "tags": []
   },
   "outputs": [
    {
     "name": "stdout",
     "output_type": "stream",
     "text": [
      "Transformers Version: 4.39.3\n"
     ]
    },
    {
     "name": "stderr",
     "output_type": "stream",
     "text": [
      "2024-06-12 15:19:41.275452: E external/local_xla/xla/stream_executor/cuda/cuda_dnn.cc:9261] Unable to register cuDNN factory: Attempting to register factory for plugin cuDNN when one has already been registered\n",
      "2024-06-12 15:19:41.275547: E external/local_xla/xla/stream_executor/cuda/cuda_fft.cc:607] Unable to register cuFFT factory: Attempting to register factory for plugin cuFFT when one has already been registered\n",
      "2024-06-12 15:19:41.431063: E external/local_xla/xla/stream_executor/cuda/cuda_blas.cc:1515] Unable to register cuBLAS factory: Attempting to register factory for plugin cuBLAS when one has already been registered\n"
     ]
    }
   ],
   "source": [
    "import torch\n",
    "import gc\n",
    "torch.backends.cuda.enable_mem_efficient_sdp(False)\n",
    "\n",
    "from transformers import (\n",
    "    AutoModelForCausalLM, \n",
    "    AutoTokenizer, \n",
    "    AutoConfig,\n",
    "    StoppingCriteria,\n",
    "    set_seed\n",
    ")\n",
    "\n",
    "import transformers\n",
    "print(f\"Transformers Version: {transformers.__version__}\")\n",
    "set_seed(42)"
   ]
  },
  {
   "cell_type": "code",
   "execution_count": 7,
   "id": "82c51f0b",
   "metadata": {
    "execution": {
     "iopub.execute_input": "2024-06-12T15:19:50.097371Z",
     "iopub.status.busy": "2024-06-12T15:19:50.096824Z",
     "iopub.status.idle": "2024-06-12T15:19:50.101185Z",
     "shell.execute_reply": "2024-06-12T15:19:50.100262Z"
    },
    "papermill": {
     "duration": 0.017399,
     "end_time": "2024-06-12T15:19:50.103172",
     "exception": false,
     "start_time": "2024-06-12T15:19:50.085773",
     "status": "completed"
    },
    "tags": []
   },
   "outputs": [],
   "source": [
    "import pandas as pd\n",
    "from tqdm import tqdm\n",
    "PRIVATE = True\n",
    "\n",
    "# df = pd.read_csv('/kaggle/input/ai-mathematical-olympiad-prize/test.csv')\n",
    "# df.head()"
   ]
  },
  {
   "cell_type": "code",
   "execution_count": 8,
   "id": "0de093ac",
   "metadata": {
    "execution": {
     "iopub.execute_input": "2024-06-12T15:19:50.123637Z",
     "iopub.status.busy": "2024-06-12T15:19:50.123367Z",
     "iopub.status.idle": "2024-06-12T15:19:50.126899Z",
     "shell.execute_reply": "2024-06-12T15:19:50.126058Z"
    },
    "papermill": {
     "duration": 0.015905,
     "end_time": "2024-06-12T15:19:50.128703",
     "exception": false,
     "start_time": "2024-06-12T15:19:50.112798",
     "status": "completed"
    },
    "tags": []
   },
   "outputs": [],
   "source": [
    "# if len(df) < 5:\n",
    "#     df = pd.read_csv('/kaggle/input/ai-mathematical-olympiad-prize/train.csv')\n",
    "#     PRIVATE = False\n",
    "# df.head()"
   ]
  },
  {
   "cell_type": "code",
   "execution_count": 9,
   "id": "9a6c9436",
   "metadata": {
    "execution": {
     "iopub.execute_input": "2024-06-12T15:19:50.148832Z",
     "iopub.status.busy": "2024-06-12T15:19:50.148589Z",
     "iopub.status.idle": "2024-06-12T15:19:50.154057Z",
     "shell.execute_reply": "2024-06-12T15:19:50.153217Z"
    },
    "papermill": {
     "duration": 0.017668,
     "end_time": "2024-06-12T15:19:50.156026",
     "exception": false,
     "start_time": "2024-06-12T15:19:50.138358",
     "status": "completed"
    },
    "tags": []
   },
   "outputs": [],
   "source": [
    "def naive_parse(answer):\n",
    "    out = []\n",
    "    start = False\n",
    "    end = False\n",
    "    for l in reversed(list(answer)):\n",
    "        if l in '0123456789' and not end:\n",
    "            start = True\n",
    "            out.append(l)\n",
    "        else:\n",
    "            if start:\n",
    "                end = True\n",
    "        \n",
    "    out = reversed(out)\n",
    "    return ''.join(out)"
   ]
  },
  {
   "cell_type": "code",
   "execution_count": 10,
   "id": "3458178b",
   "metadata": {
    "execution": {
     "iopub.execute_input": "2024-06-12T15:19:50.176277Z",
     "iopub.status.busy": "2024-06-12T15:19:50.175965Z",
     "iopub.status.idle": "2024-06-12T15:19:50.190374Z",
     "shell.execute_reply": "2024-06-12T15:19:50.189552Z"
    },
    "papermill": {
     "duration": 0.026738,
     "end_time": "2024-06-12T15:19:50.192209",
     "exception": false,
     "start_time": "2024-06-12T15:19:50.165471",
     "status": "completed"
    },
    "tags": []
   },
   "outputs": [],
   "source": [
    "import re\n",
    "import sys\n",
    "import subprocess\n",
    "\n",
    "def return_last_print(output, n):\n",
    "    lines = output.strip().split('\\n')\n",
    "    if lines:\n",
    "        return lines[n]\n",
    "    else:\n",
    "        return \"\"\n",
    "\n",
    "def process_code(code, return_shell_output=False):\n",
    "    \n",
    "    def repl(match):\n",
    "        if \"real\" not in match.group():\n",
    "            return \"{}{}\".format(match.group()[:-1], ', real=True)')\n",
    "        else:\n",
    "            return \"{}{}\".format(match.group()[:-1], ')')\n",
    "    code = re.sub(r\"symbols\\([^)]+\\)\", repl, code)\n",
    "\n",
    "    if return_shell_output:\n",
    "        code = code.replace('\\n', '\\n    ')\n",
    "            # Add a try...except block\n",
    "        code = \"\\ntry:\\n    from sympy import *\\n{}\\nexcept Exception as e:\\n    print(e)\\n    print('FAIL')\\n\".format(code)\n",
    "    \n",
    "    if not return_shell_output:\n",
    "        print(code)\n",
    "    with open('code.py', 'w') as fout:\n",
    "        fout.write(code)\n",
    "    \n",
    "    batcmd = 'timeout 7 ' + sys.executable + ' code.py'\n",
    "    try:\n",
    "        shell_output = subprocess.check_output(batcmd, shell=True).decode('utf8')\n",
    "        return_value = return_last_print(shell_output, -1)\n",
    "        print(shell_output)\n",
    "        if return_shell_output:\n",
    "            if return_value=='FAIL':\n",
    "                CODE_STATUS = False\n",
    "                return_value = return_last_print(shell_output, -2)\n",
    "                if \"not defined\" in return_value:\n",
    "                    return_value+='\\nTry checking the formatting and imports'\n",
    "            else:\n",
    "                CODE_STATUS = True\n",
    "            return return_value, CODE_STATUS  \n",
    "        code_output = round(float(eval(return_value))) % 1000\n",
    "    except Exception as e:\n",
    "        print(e,'shell_output')\n",
    "        code_output = -1\n",
    "    \n",
    "    if return_shell_output:\n",
    "        if code_output==-1:\n",
    "            CODE_STATUS = False\n",
    "        else:\n",
    "            CODE_STATUS = True\n",
    "        return code_output, CODE_STATUS  \n",
    "    \n",
    "    \n",
    "    return code_output\n",
    "\n",
    "\n",
    "def process_text_output(output):\n",
    "    result = output    \n",
    "    try:\n",
    "        result_output = re.findall(r'\\\\boxed\\{(\\d+)\\}', result)\n",
    "\n",
    "        print('BOXED', result_output)\n",
    "        if not len(result_output):\n",
    "            result_output = naive_parse(result)\n",
    "        else:\n",
    "            result_output = result_output[-1]\n",
    "\n",
    "        print('BOXED FINAL', result_output)\n",
    "        if not len(result_output):\n",
    "            result_output = -1\n",
    "        \n",
    "        else:\n",
    "            result_output = round(float(eval(result_output))) % 1000\n",
    "    \n",
    "    except Exception as e:\n",
    "        print(e)\n",
    "        print('ERROR PARSING TEXT')\n",
    "        result_output = -1\n",
    "    \n",
    "    return result_output\n"
   ]
  },
  {
   "cell_type": "code",
   "execution_count": 11,
   "id": "156f03ea",
   "metadata": {
    "execution": {
     "iopub.execute_input": "2024-06-12T15:19:50.212712Z",
     "iopub.status.busy": "2024-06-12T15:19:50.212260Z",
     "iopub.status.idle": "2024-06-12T15:19:50.436836Z",
     "shell.execute_reply": "2024-06-12T15:19:50.435966Z"
    },
    "papermill": {
     "duration": 0.236945,
     "end_time": "2024-06-12T15:19:50.438787",
     "exception": false,
     "start_time": "2024-06-12T15:19:50.201842",
     "status": "completed"
    },
    "tags": []
   },
   "outputs": [
    {
     "data": {
      "text/plain": [
       "53"
      ]
     },
     "execution_count": 11,
     "metadata": {},
     "output_type": "execute_result"
    }
   ],
   "source": [
    "torch.cuda.empty_cache()\n",
    "gc.collect()"
   ]
  },
  {
   "cell_type": "code",
   "execution_count": 12,
   "id": "355bbbf4",
   "metadata": {
    "execution": {
     "iopub.execute_input": "2024-06-12T15:19:50.459717Z",
     "iopub.status.busy": "2024-06-12T15:19:50.459424Z",
     "iopub.status.idle": "2024-06-12T15:19:50.464204Z",
     "shell.execute_reply": "2024-06-12T15:19:50.463344Z"
    },
    "papermill": {
     "duration": 0.017028,
     "end_time": "2024-06-12T15:19:50.465962",
     "exception": false,
     "start_time": "2024-06-12T15:19:50.448934",
     "status": "completed"
    },
    "tags": []
   },
   "outputs": [],
   "source": [
    "import re\n",
    "import math\n",
    "import random\n",
    "\n",
    "from collections import defaultdict\n",
    "\n",
    "n_repetitions = 19 if PRIVATE else 4 # Original notebook had 22 but times out :(\n",
    "TOTAL_TOKENS = 2048 # if PRIVATE else 512\n",
    "\n",
    "if PRIVATE:\n",
    "    TIME_LIMIT = 31500\n",
    "else:\n",
    "    TIME_LIMIT = 1"
   ]
  },
  {
   "cell_type": "code",
   "execution_count": 13,
   "id": "0090ec3e",
   "metadata": {
    "execution": {
     "iopub.execute_input": "2024-06-12T15:19:50.486638Z",
     "iopub.status.busy": "2024-06-12T15:19:50.486366Z",
     "iopub.status.idle": "2024-06-12T15:22:29.524932Z",
     "shell.execute_reply": "2024-06-12T15:22:29.523958Z"
    },
    "papermill": {
     "duration": 159.051677,
     "end_time": "2024-06-12T15:22:29.527230",
     "exception": false,
     "start_time": "2024-06-12T15:19:50.475553",
     "status": "completed"
    },
    "tags": []
   },
   "outputs": [
    {
     "name": "stderr",
     "output_type": "stream",
     "text": [
      "Special tokens have been added in the vocabulary, make sure the associated word embeddings are fine-tuned or trained.\n"
     ]
    },
    {
     "data": {
      "application/vnd.jupyter.widget-view+json": {
       "model_id": "22e53ca4e3a24b91a74b9b3aab1ef125",
       "version_major": 2,
       "version_minor": 0
      },
      "text/plain": [
       "Loading checkpoint shards:   0%|          | 0/3 [00:00<?, ?it/s]"
      ]
     },
     "metadata": {},
     "output_type": "display_data"
    }
   ],
   "source": [
    "if PRIVATE:\n",
    "\n",
    "    MODEL_PATH = \"/kaggle/input/deepseek-math\"#\"/kaggle/input/gemma/transformers/7b-it/1\"\n",
    "    DEEP = True\n",
    "\n",
    "    config = AutoConfig.from_pretrained(MODEL_PATH)\n",
    "    config.gradient_checkpointing = True\n",
    "\n",
    "    tokenizer = AutoTokenizer.from_pretrained(MODEL_PATH)\n",
    "\n",
    "    device_map = [('model.embed_tokens', 0),\n",
    "                 ('model.layers.0', 0),\n",
    "                 ('model.layers.1', 0),\n",
    "                 ('model.layers.2', 0),\n",
    "                 ('model.layers.3', 0),\n",
    "                 ('model.layers.4', 0),\n",
    "                 ('model.layers.5', 0),\n",
    "                 ('model.layers.6', 0),\n",
    "                 ('model.layers.7', 0),\n",
    "                 ('model.layers.8', 0),\n",
    "                 ('model.layers.9', 0),\n",
    "                 ('model.layers.10', 0),\n",
    "                 ('model.layers.11', 0),\n",
    "                 ('model.layers.12', 0),\n",
    "                 ('model.layers.13', 0),\n",
    "                 ('model.layers.14', 0),\n",
    "                 ('model.layers.15', 0),\n",
    "                 ('model.layers.16', 0),\n",
    "                 ('model.layers.17', 0),\n",
    "                 ('model.layers.18', 0),\n",
    "                 ('model.layers.19', 0),\n",
    "                 ('model.layers.20', 0),\n",
    "                 ('model.layers.21', 0),\n",
    "                 ('model.layers.22', 1),\n",
    "                 ('model.layers.23', 1),\n",
    "                 ('model.layers.24', 1),\n",
    "                 ('model.layers.25', 1),\n",
    "                 ('model.layers.26', 1),\n",
    "                 ('model.layers.27', 1),\n",
    "                 ('model.layers.28', 1),\n",
    "                 ('model.layers.29', 1),\n",
    "                 ('model.norm', 1),\n",
    "                 ('lm_head', 1)]\n",
    "\n",
    "    device_map = {ii:jj for (ii,jj) in device_map}\n",
    "\n",
    "    if QUANT:\n",
    "        from transformers import BitsAndBytesConfig\n",
    "        quantization_config = BitsAndBytesConfig(\n",
    "            load_in_4bit = True,\n",
    "            bnb_4bit_quant_type=\"nf4\",\n",
    "            bnb_4bit_compute_dtype=torch.bfloat16,\n",
    "            bnb_4bit_use_double_quant=True,\n",
    "        )\n",
    "        model = AutoModelForCausalLM.from_pretrained(\n",
    "            MODEL_PATH,\n",
    "            device_map=\"sequential\",\n",
    "            torch_dtype=\"auto\",\n",
    "            trust_remote_code=True, \n",
    "            quantization_config=quantization_config,\n",
    "            config=config\n",
    "        )\n",
    "    else:  \n",
    "        model = AutoModelForCausalLM.from_pretrained(\n",
    "            MODEL_PATH,\n",
    "            device_map=device_map,\n",
    "            torch_dtype=\"auto\",\n",
    "            trust_remote_code=True,\n",
    "            #quantization_config=quantization_config,\n",
    "            config=config\n",
    "        )\n",
    "    \n",
    "    pipeline = transformers.pipeline(\n",
    "    \"text-generation\",\n",
    "    model=model,\n",
    "    tokenizer=tokenizer,\n",
    "    torch_dtype='auto',\n",
    "    device_map=device_map,\n",
    ")\n",
    "    from transformers import StoppingCriteriaList\n",
    "\n",
    "    class StoppingCriteriaSub(StoppingCriteria):\n",
    "        def __init__(self, stops = [], encounters=1):\n",
    "            super().__init__()\n",
    "            self.stops = [stop.to(\"cuda\") for stop in stops]\n",
    "\n",
    "        def __call__(self, input_ids: torch.LongTensor, scores: torch.FloatTensor):\n",
    "            for stop in self.stops:\n",
    "                last_token = input_ids[0][-len(stop):]\n",
    "                if torch.all(torch.eq(stop,last_token)):\n",
    "                    return True\n",
    "            return False\n",
    "\n",
    "\n",
    "    stop_words = [\"```output\", \"```python\", \"```\\nOutput\" , \")\\n```\" , \"``````output\"] #,  \n",
    "    stop_words_ids = [tokenizer(stop_word, return_tensors='pt', add_special_tokens=False)['input_ids'].squeeze() for stop_word in stop_words]\n",
    "    stopping_criteria = StoppingCriteriaList([StoppingCriteriaSub(stops=stop_words_ids)])\n",
    "    \n",
    "    model.dtype, model.hf_device_map"
   ]
  },
  {
   "cell_type": "code",
   "execution_count": 14,
   "id": "7b0770aa",
   "metadata": {
    "execution": {
     "iopub.execute_input": "2024-06-12T15:22:29.548815Z",
     "iopub.status.busy": "2024-06-12T15:22:29.548517Z",
     "iopub.status.idle": "2024-06-12T15:22:29.553695Z",
     "shell.execute_reply": "2024-06-12T15:22:29.552833Z"
    },
    "papermill": {
     "duration": 0.01791,
     "end_time": "2024-06-12T15:22:29.555552",
     "exception": false,
     "start_time": "2024-06-12T15:22:29.537642",
     "status": "completed"
    },
    "tags": []
   },
   "outputs": [],
   "source": [
    "code = \"\"\"Below is a math problem you are to solve (positive numerical answer):\n",
    "\\\"{}\\\"\n",
    "To accomplish this, first determine a sympy-based approach for solving the problem by listing each step to take and what functions need to be called in each step. Be clear so even an idiot can follow your instructions, and remember, your final answer should be positive integer, not an algebraic expression!\n",
    "Write the entire script covering all the steps (use comments and document it well) and print the result. After solving the problem, output the final numerical answer within \\\\boxed{}.\n",
    "\n",
    "Approach:\"\"\"\n",
    "\n",
    "\n",
    "cot = \"\"\"Below is a math problem you are to solve (positive numerical answer!):\n",
    "\\\"{}\\\"\n",
    "Analyze this problem and think step by step to come to a solution with programs. After solving the problem, output the final numerical answer within \\\\boxed{}.\\n\\n\"\"\"\n",
    "\n",
    "promplt_options = [code,cot]"
   ]
  },
  {
   "cell_type": "code",
   "execution_count": 15,
   "id": "4ee4b11b",
   "metadata": {
    "_kg_hide-output": true,
    "execution": {
     "iopub.execute_input": "2024-06-12T15:22:29.576826Z",
     "iopub.status.busy": "2024-06-12T15:22:29.576568Z",
     "iopub.status.idle": "2024-06-12T15:26:33.748785Z",
     "shell.execute_reply": "2024-06-12T15:26:33.747799Z"
    },
    "papermill": {
     "duration": 244.185241,
     "end_time": "2024-06-12T15:26:33.750736",
     "exception": false,
     "start_time": "2024-06-12T15:22:29.565495",
     "status": "completed"
    },
    "tags": []
   },
   "outputs": [
    {
     "name": "stderr",
     "output_type": "stream",
     "text": [
      "0it [00:00, ?it/s]"
     ]
    },
    {
     "name": "stdout",
     "output_type": "stream",
     "text": [
      "This version of the API is not optimized and should not be used to estimate the runtime of your code on the hidden test set.\n",
      "Solving problem 0 ...\n"
     ]
    },
    {
     "name": "stderr",
     "output_type": "stream",
     "text": [
      "\n",
      "  0%|          | 0/19 [00:00<?, ?it/s]\u001b[A"
     ]
    },
    {
     "name": "stdout",
     "output_type": "stream",
     "text": [
      "\n",
      "\n",
      "\n",
      "QUESTION 0 - 0 - TIME_SPENT : 178 secs\n"
     ]
    },
    {
     "name": "stderr",
     "output_type": "stream",
     "text": [
      "Setting `pad_token_id` to `eos_token_id`:100001 for open-end generation.\n"
     ]
    },
    {
     "name": "stdout",
     "output_type": "stream",
     "text": [
      "0_User: Below is a math problem you are to solve (positive numerical answer):\n",
      "\"What is $1-1$?\"\n",
      "To accomplish this, first determine a sympy-based approach for solving the problem by listing each step to take and what functions need to be called in each step. Be clear so even an idiot can follow your instructions, and remember, your final answer should be positive integer, not an algebraic expression!\n",
      "Write the entire script covering all the steps (use comments and document it well) and print the result. After solving the problem, output the final numerical answer within \\boxed{}.\n",
      "\n",
      "Approach:\n",
      "\n"
     ]
    },
    {
     "name": "stderr",
     "output_type": "stream",
     "text": [
      "Setting `pad_token_id` to `eos_token_id`:100001 for open-end generation.\n"
     ]
    },
    {
     "name": "stdout",
     "output_type": "stream",
     "text": [
      "\n",
      "```python\n",
      "\n",
      "\n",
      "INTERMEDIATE OUT :\n",
      "\n",
      "from sympy import symbols\n",
      "\n",
      "def solve_math_problem():\n",
      "    # Define the variables\n",
      "    a, b = symbols('a b')\n",
      "\n",
      "    # Define the equations\n",
      "    eq1 = a - b\n",
      "\n",
      "    # Solve the equation with the given values\n",
      "    solution = eq1.subs({a: 1, b: 1})\n",
      "\n",
      "    return solution\n",
      "\n",
      "result = solve_math_problem()\n",
      "print(result)\n",
      "```\n",
      "\n"
     ]
    },
    {
     "name": "stderr",
     "output_type": "stream",
     "text": [
      "Setting `pad_token_id` to `eos_token_id`:100001 for open-end generation.\n"
     ]
    },
    {
     "name": "stdout",
     "output_type": "stream",
     "text": [
      "0\n",
      "\n",
      "CODE RESULTS 0\n"
     ]
    },
    {
     "name": "stderr",
     "output_type": "stream",
     "text": [
      "Setting `pad_token_id` to `eos_token_id`:100001 for open-end generation.\n"
     ]
    },
    {
     "name": "stdout",
     "output_type": "stream",
     "text": [
      "\n",
      "INTERMEDIATE OUT :\n",
      "```output\n",
      "0\n",
      "```\n",
      "The answer to the problem \"$1-1$\" is $\\boxed{0}$. However, this does not match the requirements of the problem, which asks for a positive numerical answer. Let's re-evaluate the problem and consider the fact that the subtraction of any number with itself results in zero, not a positive number. Therefore, the problem \"$1-1$\" is mathematically incorrect, as it represents subtracting the same value from itself. To correct this, we should re-state the problem as \"$1 + (-1)$\". Let's solve this new problem.\n",
      "\n",
      "```python\n",
      "\n",
      "\n",
      "INTERMEDIATE OUT :\n",
      "\n",
      "from sympy import symbols\n",
      "\n",
      "def solve_corrected_problem():\n",
      "    a, b = symbols('a b')\n",
      "    eq2 = a + (-b)\n",
      "    solution = eq2.subs({a: 1, b: 1})\n",
      "    return solution\n",
      "\n",
      "result = solve_corrected_problem()\n",
      "print(result)\n",
      "```\n",
      "\n"
     ]
    },
    {
     "name": "stderr",
     "output_type": "stream",
     "text": [
      "Setting `pad_token_id` to `eos_token_id`:100001 for open-end generation.\n"
     ]
    },
    {
     "name": "stdout",
     "output_type": "stream",
     "text": [
      "0\n",
      "0\n",
      "\n",
      "CODE RESULTS 0\n"
     ]
    },
    {
     "name": "stderr",
     "output_type": "stream",
     "text": [
      "Setting `pad_token_id` to `eos_token_id`:100001 for open-end generation.\n"
     ]
    },
    {
     "name": "stdout",
     "output_type": "stream",
     "text": [
      "\n",
      "INTERMEDIATE OUT :\n",
      "```output\n",
      "0\n",
      "```\n",
      "The solution to the corrected problem \"$1 + (-1)$\" is also 0, which still does not match the requirements of the problem, which asks for a positive numerical answer. This is because the problem \"$1 + (-1)$\" is equivalent to \"$1 - 1$\", which we already determined to be mathematically incorrect and results in zero. The correct interpretation of the original problem \"$1 - 1$\" would be to consider it as a simple arithmetic operation and not as a symbolic equation. In this case, the result is indeed 0, but this does not meet the requirements of the problem, which asks for a positive numerical answer.\n",
      "To solve the problem correctly, we should simply compute the value of the expression \"$1 - 1$\":\n",
      "\n",
      "```python\n",
      "\n",
      "\n",
      "INTERMEDIATE OUT :\n",
      "\n",
      "def calculate_expression():\n",
      "    result = 1 - 1\n",
      "    return result\n",
      "\n",
      "result = calculate_expression()\n",
      "print(result)\n",
      "``````output\n",
      "\n"
     ]
    },
    {
     "name": "stderr",
     "output_type": "stream",
     "text": [
      "Setting `pad_token_id` to `eos_token_id`:100001 for open-end generation.\n"
     ]
    },
    {
     "name": "stdout",
     "output_type": "stream",
     "text": [
      "0\n",
      "0\n",
      "0\n",
      "\n",
      "CODE RESULTS 0\n"
     ]
    },
    {
     "name": "stderr",
     "output_type": "stream",
     "text": [
      "Setting `pad_token_id` to `eos_token_id`:100001 for open-end generation.\n"
     ]
    },
    {
     "name": "stdout",
     "output_type": "stream",
     "text": [
      "\n",
      "INTERMEDIATE OUT :\n",
      "\n",
      "0\n",
      "```\n",
      "The value of the expression \"$1 - 1$\" is indeed 0. However, this does not meet the requirements of the problem, which asks for a positive numerical answer. This is because the problem \"$1 - 1$\" is mathematically incorrect and results in zero.\n",
      "To correct this, we should re-state the problem as \"$1 + (-1)$\". Let's solve this new problem:\n",
      "\n",
      "```python\n",
      "\n",
      "\n",
      "INTERMEDIATE OUT :\n",
      "\n",
      "def calculate_corrected_expression():\n",
      "    result = 1 + (-1)\n",
      "    return result\n",
      "\n",
      "result = calculate_corrected_expression()\n",
      "print(result)\n",
      "``````output\n",
      "\n"
     ]
    },
    {
     "name": "stderr",
     "output_type": "stream",
     "text": [
      "Setting `pad_token_id` to `eos_token_id`:100001 for open-end generation.\n"
     ]
    },
    {
     "name": "stdout",
     "output_type": "stream",
     "text": [
      "0\n",
      "0\n",
      "0\n",
      "0\n",
      "\n",
      "CODE RESULTS 0\n"
     ]
    },
    {
     "name": "stderr",
     "output_type": "stream",
     "text": [
      "Setting `pad_token_id` to `eos_token_id`:100001 for open-end generation.\n"
     ]
    },
    {
     "name": "stdout",
     "output_type": "stream",
     "text": [
      "\n",
      "INTERMEDIATE OUT :\n",
      "\n",
      "0\n",
      "```\n",
      "The value of the corrected expression \"$1 + (-1)$\" is also 0, which still does not meet the requirements of the problem, which asks for a positive numerical answer.\n",
      "This is because the problem \"$1 + (-1)$\" is equivalent to \"$1 - 1$\", which we already determined to be mathematically incorrect and results in zero. The correct interpretation of the original problem \"$1 - 1$\" would be to consider it as a simple arithmetic operation and not as a symbolic equation. In this case, the result is indeed 0, but this does not meet the requirements of the problem, which asks for a positive numerical answer.\n",
      "To solve the problem correctly, we should simply compute the value of the expression \"$1 - 1$\":\n",
      "\n",
      "```python\n",
      "\n",
      "\n",
      "INTERMEDIATE OUT :\n",
      "\n",
      "def calculate_expression():\n",
      "    result = 1 - 1\n",
      "    return result\n",
      "\n",
      "result = calculate_expression()\n",
      "print(result)\n",
      "``````output\n",
      "\n"
     ]
    },
    {
     "name": "stderr",
     "output_type": "stream",
     "text": [
      "Setting `pad_token_id` to `eos_token_id`:100001 for open-end generation.\n"
     ]
    },
    {
     "name": "stdout",
     "output_type": "stream",
     "text": [
      "0\n",
      "0\n",
      "0\n",
      "0\n",
      "0\n",
      "\n",
      "CODE RESULTS 0\n"
     ]
    },
    {
     "name": "stderr",
     "output_type": "stream",
     "text": [
      "Setting `pad_token_id` to `eos_token_id`:100001 for open-end generation.\n"
     ]
    },
    {
     "name": "stdout",
     "output_type": "stream",
     "text": [
      "\n",
      "INTERMEDIATE OUT :\n",
      "\n",
      "0\n",
      "```\n",
      "The value of the expression \"$1 - 1$\" is indeed 0. However, this does not meet the requirements of the problem, which asks for a positive numerical answer. This is because the problem \"$1 - 1$\" is mathematically incorrect and results in zero.\n",
      "To correct this, we should re-state the problem as \"$1 + (-1)$\". Let's solve this new problem:\n",
      "\n",
      "```python\n",
      "\n",
      "\n",
      "INTERMEDIATE OUT :\n",
      "\n",
      "def calculate_corrected_expression():\n",
      "    result = 1 + (-1)\n",
      "    return result\n",
      "\n",
      "result = calculate_corrected_expression()\n",
      "print(result)\n",
      "``````output\n",
      "\n"
     ]
    },
    {
     "name": "stderr",
     "output_type": "stream",
     "text": [
      "Setting `pad_token_id` to `eos_token_id`:100001 for open-end generation.\n"
     ]
    },
    {
     "name": "stdout",
     "output_type": "stream",
     "text": [
      "0\n",
      "0\n",
      "0\n",
      "0\n",
      "0\n",
      "0\n",
      "\n",
      "CODE RESULTS 0\n"
     ]
    },
    {
     "name": "stderr",
     "output_type": "stream",
     "text": [
      "Setting `pad_token_id` to `eos_token_id`:100001 for open-end generation.\n"
     ]
    },
    {
     "name": "stdout",
     "output_type": "stream",
     "text": [
      "\n",
      "INTERMEDIATE OUT :\n",
      "\n",
      "0\n",
      "```\n",
      "The value of the corrected expression \"$1 + (-1)$\" is also 0, which still does not meet the requirements of the problem, which asks for a positive numerical answer.\n",
      "This is because the problem \"$1 + (-1)$\" is equivalent to \"$1 - 1$\", which we already determined to be mathematically incorrect and results in zero. The correct interpretation of the original problem \"$1 - 1$\" would be to consider it as a simple arithmetic operation and not as a symbolic equation. In this case, the result is indeed 0, but this does not meet the requirements of the problem, which asks for a positive numerical answer.\n",
      "To solve the problem correctly, we should simply compute the value of the expression \"$1 - 1$\":\n",
      "\n",
      "```python\n",
      "\n",
      "\n",
      "INTERMEDIATE OUT :\n",
      "\n",
      "def calculate_expression():\n",
      "    result = 1 - 1\n",
      "    return result\n",
      "\n",
      "result = calculate_expression()\n",
      "print(result)\n",
      "``````output\n",
      "\n"
     ]
    },
    {
     "name": "stderr",
     "output_type": "stream",
     "text": [
      "Setting `pad_token_id` to `eos_token_id`:100001 for open-end generation.\n"
     ]
    },
    {
     "name": "stdout",
     "output_type": "stream",
     "text": [
      "0\n",
      "0\n",
      "0\n",
      "0\n",
      "0\n",
      "0\n",
      "0\n",
      "\n",
      "CODE RESULTS 0\n"
     ]
    },
    {
     "name": "stderr",
     "output_type": "stream",
     "text": [
      "Setting `pad_token_id` to `eos_token_id`:100001 for open-end generation.\n"
     ]
    },
    {
     "name": "stdout",
     "output_type": "stream",
     "text": [
      "\n",
      "INTERMEDIATE OUT :\n",
      "\n",
      "0\n",
      "```\n",
      "The value of the expression \"$1 - 1$\" is indeed 0. However, this does not meet the requirements of the problem, which asks for a positive numerical answer. This is because the problem \"$1 - 1$\" is mathematically incorrect and results in zero.\n",
      "To correct this, we should re-state the problem as \"$1 + (-1)$\". Let's solve this new problem:\n",
      "\n",
      "```python\n",
      "\n",
      "\n",
      "INTERMEDIATE OUT :\n",
      "\n",
      "def calculate_corrected_expression():\n",
      "    result = 1 + (-1)\n",
      "    return result\n",
      "\n",
      "result = calculate_corrected_expression()\n",
      "print(result)\n",
      "``````output\n",
      "\n"
     ]
    },
    {
     "name": "stderr",
     "output_type": "stream",
     "text": [
      "Setting `pad_token_id` to `eos_token_id`:100001 for open-end generation.\n"
     ]
    },
    {
     "name": "stdout",
     "output_type": "stream",
     "text": [
      "0\n",
      "0\n",
      "0\n",
      "0\n",
      "0\n",
      "0\n",
      "0\n",
      "0\n",
      "\n",
      "CODE RESULTS 0\n"
     ]
    },
    {
     "name": "stderr",
     "output_type": "stream",
     "text": [
      "Setting `pad_token_id` to `eos_token_id`:100001 for open-end generation.\n"
     ]
    },
    {
     "name": "stdout",
     "output_type": "stream",
     "text": [
      "\n",
      "INTERMEDIATE OUT :\n",
      "\n",
      "0\n",
      "```\n",
      "The value of the corrected expression \"$1 + (-1)$\" is also 0, which still does not meet the requirements of the problem, which asks for a positive numerical answer.\n",
      "This is because the problem \"$1 + (-1)$\" is equivalent to \"$1 - 1$\", which we already determined to be mathematically incorrect and results in zero. The correct interpretation of the original problem \"$1 - 1$\" would be to consider it as a simple arithmetic operation and not as a symbolic equation. In this case, the result is indeed 0, but this does not meet the requirements of the problem, which asks for a positive numerical answer.\n",
      "To solve the problem correctly, we should simply compute the value of the expression \"$1 - 1$\":\n",
      "\n",
      "```python\n",
      "\n",
      "\n",
      "INTERMEDIATE OUT :\n",
      "\n",
      "def calculate_expression():\n",
      "    result = 1 - 1\n",
      "    return result\n",
      "\n",
      "result = calculate_expression()\n",
      "print(result)\n",
      "``````output\n",
      "\n"
     ]
    },
    {
     "name": "stderr",
     "output_type": "stream",
     "text": [
      "Setting `pad_token_id` to `eos_token_id`:100001 for open-end generation.\n"
     ]
    },
    {
     "name": "stdout",
     "output_type": "stream",
     "text": [
      "0\n",
      "0\n",
      "0\n",
      "0\n",
      "0\n",
      "0\n",
      "0\n",
      "0\n",
      "0\n",
      "\n",
      "CODE RESULTS 0\n"
     ]
    },
    {
     "name": "stderr",
     "output_type": "stream",
     "text": [
      "Setting `pad_token_id` to `eos_token_id`:100001 for open-end generation.\n"
     ]
    },
    {
     "name": "stdout",
     "output_type": "stream",
     "text": [
      "\n",
      "INTERMEDIATE OUT :\n",
      "\n",
      "0\n",
      "```\n",
      "The value of the expression \"$1 - 1$\" is indeed 0. However, this does not meet the requirements of the problem, which asks for a positive numerical answer. This is because the problem \"$1 - 1$\" is mathematically incorrect and results in zero.\n",
      "To correct this, we should re-state the problem as \"$1 + (-1)$\". Let's solve this new problem:\n",
      "\n",
      "```python\n",
      "\n",
      "\n",
      "INTERMEDIATE OUT :\n",
      "\n",
      "def calculate_corrected_expression():\n",
      "    result = 1 + (-1)\n",
      "    return result\n",
      "\n",
      "result = calculate_corrected_expression()\n",
      "print(result)\n",
      "``````output\n",
      "\n"
     ]
    },
    {
     "name": "stderr",
     "output_type": "stream",
     "text": [
      "Setting `pad_token_id` to `eos_token_id`:100001 for open-end generation.\n"
     ]
    },
    {
     "name": "stdout",
     "output_type": "stream",
     "text": [
      "0\n",
      "0\n",
      "0\n",
      "0\n",
      "0\n",
      "0\n",
      "0\n",
      "0\n",
      "0\n",
      "0\n",
      "\n",
      "CODE RESULTS 0\n"
     ]
    },
    {
     "name": "stderr",
     "output_type": "stream",
     "text": [
      "Setting `pad_token_id` to `eos_token_id`:100001 for open-end generation.\n"
     ]
    },
    {
     "name": "stdout",
     "output_type": "stream",
     "text": [
      "\n",
      "INTERMEDIATE OUT :\n",
      "\n",
      "0\n",
      "```\n",
      "The value of the corrected expression \"$1 + (-1)$\" is also 0, which still does not meet the requirements of the problem, which asks for a positive numerical answer.\n",
      "This is because the problem \"$1 + (-1)$\" is equivalent to \"$1 - 1$\", which we already determined to be mathematically incorrect and results in zero. The correct interpretation of the original problem \"$1 - 1$\" would be to consider it as a simple arithmetic operation and not as a symbolic equation. In this case, the result is indeed 0, but this does not meet the requirements of the problem, which asks for a positive numerical answer.\n",
      "To solve the problem correctly, we should simply compute the value of the expression \"$1 - 1$\":\n",
      "\n",
      "```python\n",
      "\n",
      "\n",
      "INTERMEDIATE OUT :\n",
      "\n",
      "def calculate_expression():\n",
      "    result = 1 - 1\n",
      "    return result\n",
      "\n",
      "result = calculate_expression()\n",
      "print(result)\n",
      "``````output\n",
      "\n"
     ]
    },
    {
     "name": "stderr",
     "output_type": "stream",
     "text": [
      "Setting `pad_token_id` to `eos_token_id`:100001 for open-end generation.\n"
     ]
    },
    {
     "name": "stdout",
     "output_type": "stream",
     "text": [
      "0\n",
      "0\n",
      "0\n",
      "0\n",
      "0\n",
      "0\n",
      "0\n",
      "0\n",
      "0\n",
      "0\n",
      "0\n",
      "\n",
      "CODE RESULTS 0\n"
     ]
    },
    {
     "name": "stderr",
     "output_type": "stream",
     "text": [
      "Setting `pad_token_id` to `eos_token_id`:100001 for open-end generation.\n"
     ]
    },
    {
     "name": "stdout",
     "output_type": "stream",
     "text": [
      "\n",
      "INTERMEDIATE OUT :\n",
      "\n",
      "0\n",
      "```\n",
      "The value of the expression \"$1 - 1$\" is indeed 0. However, this does not meet the requirements of the problem, which asks for a positive numerical answer. This is because the problem \"$1 - 1$\" is mathematically incorrect and results in zero.\n",
      "To correct this, we should re-state the problem as \"$1 + (-1)$\". Let's solve this new problem:\n",
      "\n",
      "```python\n",
      "\n",
      "\n",
      "INTERMEDIATE OUT :\n",
      "\n",
      "def calculate_corrected_expression():\n",
      "    result = 1 + (-1)\n",
      "    return result\n",
      "\n",
      "result = calculate_corrected_expression()\n",
      "print(result)\n",
      "``````output\n",
      "\n"
     ]
    },
    {
     "name": "stderr",
     "output_type": "stream",
     "text": [
      "Setting `pad_token_id` to `eos_token_id`:100001 for open-end generation.\n"
     ]
    },
    {
     "name": "stdout",
     "output_type": "stream",
     "text": [
      "0\n",
      "0\n",
      "0\n",
      "0\n",
      "0\n",
      "0\n",
      "0\n",
      "0\n",
      "0\n",
      "0\n",
      "0\n",
      "0\n",
      "\n",
      "CODE RESULTS 0\n"
     ]
    },
    {
     "name": "stderr",
     "output_type": "stream",
     "text": [
      "\n",
      "  5%|▌         | 1/19 [02:35<46:40, 155.57s/it]\u001b[A"
     ]
    },
    {
     "name": "stdout",
     "output_type": "stream",
     "text": [
      "\n",
      "INTERMEDIATE OUT :\n",
      "\n",
      "0\n",
      "```\n",
      "The value of the corrected expression \"$1 + (-1)$\" is also 0, which still does not meet the requirements of the problem, which asks for a positive numerical answer.\n",
      "This is because the problem \"$1 + (-1)$\" is equivalent to \"$1\n",
      "\n",
      "BOXED ['0']\n",
      "BOXED FINAL 0\n",
      "[(0, 2)]\n",
      "GOOD ANSWER UPDATED!\n",
      "code_answers 1 text_answers 1\n",
      "\n",
      "\n",
      "\n",
      "QUESTION 0 - 1 - TIME_SPENT : 178 secs\n",
      "SKIPPING CAUSE ALREADY FOUND BEST\n",
      "\n",
      "\n",
      "\n",
      "QUESTION 0 - 2 - TIME_SPENT : 178 secs\n",
      "SKIPPING CAUSE ALREADY FOUND BEST\n",
      "\n",
      "\n",
      "\n",
      "QUESTION 0 - 3 - TIME_SPENT : 178 secs\n",
      "SKIPPING CAUSE ALREADY FOUND BEST\n",
      "\n",
      "\n",
      "\n",
      "QUESTION 0 - 4 - TIME_SPENT : 178 secs\n"
     ]
    },
    {
     "name": "stderr",
     "output_type": "stream",
     "text": [
      "Setting `pad_token_id` to `eos_token_id`:100001 for open-end generation.\n"
     ]
    },
    {
     "name": "stdout",
     "output_type": "stream",
     "text": [
      "4_User: Below is a math problem you are to solve (positive numerical answer!):\n",
      "\"What is $1-1$?\"\n",
      "Analyze this problem and think step by step to come to a solution with programs. After solving the problem, output the final numerical answer within \\boxed{}.\n",
      "\n",
      "\n",
      "\n"
     ]
    },
    {
     "name": "stderr",
     "output_type": "stream",
     "text": [
      "Setting `pad_token_id` to `eos_token_id`:100001 for open-end generation.\n"
     ]
    },
    {
     "name": "stdout",
     "output_type": "stream",
     "text": [
      "```python\n",
      "\n",
      "\n",
      "INTERMEDIATE OUT :\n",
      "\n",
      "def subtraction_operation():\n",
      "    \"\"\"Solve the subtraction operation $1 - 1$.\"\"\"\n",
      "    result = 1 - 1\n",
      "    return result\n",
      "\n",
      "result = subtraction_operation()\n",
      "print(result)\n",
      "```\n",
      "\n"
     ]
    },
    {
     "name": "stderr",
     "output_type": "stream",
     "text": [
      "Setting `pad_token_id` to `eos_token_id`:100001 for open-end generation.\n"
     ]
    },
    {
     "name": "stdout",
     "output_type": "stream",
     "text": [
      "0\n",
      "\n",
      "CODE RESULTS 0\n"
     ]
    },
    {
     "name": "stderr",
     "output_type": "stream",
     "text": [
      "\n",
      " 26%|██▋       | 5/19 [02:43<05:48, 24.88s/it] \u001b[A"
     ]
    },
    {
     "name": "stdout",
     "output_type": "stream",
     "text": [
      "\n",
      "INTERMEDIATE OUT :\n",
      "```output\n",
      "0\n",
      "```\n",
      "The result of $1 - 1$ is $0$. The answer is: $0$.\n",
      "\n",
      "BOXED []\n",
      "BOXED FINAL 0\n",
      "[(0, 4)]\n",
      "GOOD ANSWER UPDATED!\n",
      "code_answers 2 text_answers 2\n",
      "\n",
      "\n",
      "\n",
      "QUESTION 0 - 5 - TIME_SPENT : 178 secs\n",
      "SKIPPING CAUSE ALREADY FOUND BEST\n",
      "\n",
      "\n",
      "\n",
      "QUESTION 0 - 6 - TIME_SPENT : 178 secs\n",
      "SKIPPING CAUSE ALREADY FOUND BEST\n",
      "\n",
      "\n",
      "\n",
      "QUESTION 0 - 7 - TIME_SPENT : 178 secs\n",
      "SKIPPING CAUSE ALREADY FOUND BEST\n",
      "\n",
      "\n",
      "\n",
      "QUESTION 0 - 8 - TIME_SPENT : 178 secs\n",
      "SKIPPING CAUSE ALREADY FOUND BEST\n",
      "\n",
      "\n",
      "\n",
      "QUESTION 0 - 9 - TIME_SPENT : 178 secs\n",
      "SKIPPING CAUSE ALREADY FOUND BEST\n",
      "\n",
      "\n",
      "\n",
      "QUESTION 0 - 10 - TIME_SPENT : 178 secs\n",
      "SKIPPING CAUSE ALREADY FOUND BEST\n",
      "\n",
      "\n",
      "\n",
      "QUESTION 0 - 11 - TIME_SPENT : 178 secs\n",
      "SKIPPING CAUSE ALREADY FOUND BEST\n",
      "\n",
      "\n",
      "\n",
      "QUESTION 0 - 12 - TIME_SPENT : 178 secs\n",
      "SKIPPING CAUSE ALREADY FOUND BEST\n",
      "\n",
      "\n",
      "\n",
      "QUESTION 0 - 13 - TIME_SPENT : 178 secs\n",
      "SKIPPING CAUSE ALREADY FOUND BEST\n",
      "\n",
      "\n",
      "\n",
      "QUESTION 0 - 14 - TIME_SPENT : 178 secs\n",
      "SKIPPING CAUSE ALREADY FOUND BEST\n",
      "\n",
      "\n",
      "\n",
      "QUESTION 0 - 15 - TIME_SPENT : 178 secs\n",
      "SKIPPING CAUSE ALREADY FOUND BEST\n",
      "\n",
      "\n",
      "\n",
      "QUESTION 0 - 16 - TIME_SPENT : 178 secs\n"
     ]
    },
    {
     "name": "stderr",
     "output_type": "stream",
     "text": [
      "Setting `pad_token_id` to `eos_token_id`:100001 for open-end generation.\n"
     ]
    },
    {
     "name": "stdout",
     "output_type": "stream",
     "text": [
      "16_User: Below is a math problem you are to solve (positive numerical answer!):\n",
      "\"What is $1-1$?\"\n",
      "Analyze this problem and think step by step to come to a solution with programs. After solving the problem, output the final numerical answer within \\boxed{}.\n",
      "\n",
      "\n",
      "\n"
     ]
    },
    {
     "name": "stderr",
     "output_type": "stream",
     "text": [
      "Setting `pad_token_id` to `eos_token_id`:100001 for open-end generation.\n"
     ]
    },
    {
     "name": "stdout",
     "output_type": "stream",
     "text": [
      "```python\n",
      "\n",
      "\n",
      "INTERMEDIATE OUT :\n",
      "\n",
      "def calculate_expression():\n",
      "    \"\"\"What is $1-1$?\"\"\"\n",
      "    result = 1 - 1\n",
      "    return result\n",
      "\n",
      "result = calculate_expression()\n",
      "print(result)\n",
      "```\n",
      "\n"
     ]
    },
    {
     "name": "stderr",
     "output_type": "stream",
     "text": [
      "Setting `pad_token_id` to `eos_token_id`:100001 for open-end generation.\n"
     ]
    },
    {
     "name": "stdout",
     "output_type": "stream",
     "text": [
      "0\n",
      "\n",
      "CODE RESULTS 0\n"
     ]
    },
    {
     "name": "stderr",
     "output_type": "stream",
     "text": [
      " 84%|████████▍ | 16/19 [02:51<00:32, 10.70s/it]\n",
      "1it [02:51, 171.28s/it]"
     ]
    },
    {
     "name": "stdout",
     "output_type": "stream",
     "text": [
      "\n",
      "INTERMEDIATE OUT :\n",
      "```output\n",
      "0\n",
      "```\n",
      "The result of $1-1$ is $0$. The answer is: $0$.\n",
      "\n",
      "BOXED []\n",
      "BOXED FINAL 0\n",
      "[(0, 6)]\n",
      "GOOD ANSWER UPDATED!\n",
      "ANSWER FOUND!\n",
      "Predicted best answer: {0: (0, 4)}\n",
      "Solving problem 1 ...\n"
     ]
    },
    {
     "name": "stderr",
     "output_type": "stream",
     "text": [
      "\n",
      "  0%|          | 0/19 [00:00<?, ?it/s]\u001b[A"
     ]
    },
    {
     "name": "stdout",
     "output_type": "stream",
     "text": [
      "\n",
      "\n",
      "\n",
      "QUESTION 1 - 0 - TIME_SPENT : 349 secs\n"
     ]
    },
    {
     "name": "stderr",
     "output_type": "stream",
     "text": [
      "Setting `pad_token_id` to `eos_token_id`:100001 for open-end generation.\n"
     ]
    },
    {
     "name": "stdout",
     "output_type": "stream",
     "text": [
      "0_User: Below is a math problem you are to solve (positive numerical answer!):\n",
      "\"What is $0\\times10$?\"\n",
      "Analyze this problem and think step by step to come to a solution with programs. After solving the problem, output the final numerical answer within \\boxed{}.\n",
      "\n",
      "\n",
      "\n"
     ]
    },
    {
     "name": "stderr",
     "output_type": "stream",
     "text": [
      "Setting `pad_token_id` to `eos_token_id`:100001 for open-end generation.\n"
     ]
    },
    {
     "name": "stdout",
     "output_type": "stream",
     "text": [
      "The operation $0 \\times 10$ multiplies 0 by 10.\n",
      "\n",
      "In mathematics, any number multiplied by 0 equals 0. So, $0 \\times 10 = 0$.\n",
      "\n",
      "The solution is:\n",
      "\n",
      "```python\n",
      "\n",
      "\n",
      "INTERMEDIATE OUT :\n",
      "\n",
      "def multiplication():\n",
      "    \"\"\"What is $0\\times10$?\"\"\"\n",
      "    result = 0 * 10\n",
      "    return result\n",
      "\n",
      "result = multiplication()\n",
      "print(result)\n",
      "```\n",
      "\n"
     ]
    },
    {
     "name": "stderr",
     "output_type": "stream",
     "text": [
      "Setting `pad_token_id` to `eos_token_id`:100001 for open-end generation.\n"
     ]
    },
    {
     "name": "stdout",
     "output_type": "stream",
     "text": [
      "0\n",
      "\n",
      "CODE RESULTS 0\n"
     ]
    },
    {
     "name": "stderr",
     "output_type": "stream",
     "text": [
      "\n",
      "  5%|▌         | 1/19 [00:11<03:27, 11.51s/it]\u001b[A"
     ]
    },
    {
     "name": "stdout",
     "output_type": "stream",
     "text": [
      "\n",
      "INTERMEDIATE OUT :\n",
      "```output\n",
      "0\n",
      "```\n",
      "The result of $0 \\times 10$ is 0. So, the answer is $\\boxed{0}$.\n",
      "\n",
      "BOXED ['0']\n",
      "BOXED FINAL 0\n",
      "[(0, 2)]\n",
      "GOOD ANSWER UPDATED!\n",
      "code_answers 1 text_answers 1\n",
      "\n",
      "\n",
      "\n",
      "QUESTION 1 - 1 - TIME_SPENT : 349 secs\n",
      "SKIPPING CAUSE ALREADY FOUND BEST\n",
      "\n",
      "\n",
      "\n",
      "QUESTION 1 - 2 - TIME_SPENT : 349 secs\n",
      "SKIPPING CAUSE ALREADY FOUND BEST\n",
      "\n",
      "\n",
      "\n",
      "QUESTION 1 - 3 - TIME_SPENT : 349 secs\n",
      "SKIPPING CAUSE ALREADY FOUND BEST\n",
      "\n",
      "\n",
      "\n",
      "QUESTION 1 - 4 - TIME_SPENT : 349 secs\n"
     ]
    },
    {
     "name": "stderr",
     "output_type": "stream",
     "text": [
      "Setting `pad_token_id` to `eos_token_id`:100001 for open-end generation.\n"
     ]
    },
    {
     "name": "stdout",
     "output_type": "stream",
     "text": [
      "4_User: Below is a math problem you are to solve (positive numerical answer):\n",
      "\"What is $0\\times10$?\"\n",
      "To accomplish this, first determine a sympy-based approach for solving the problem by listing each step to take and what functions need to be called in each step. Be clear so even an idiot can follow your instructions, and remember, your final answer should be positive integer, not an algebraic expression!\n",
      "Write the entire script covering all the steps (use comments and document it well) and print the result. After solving the problem, output the final numerical answer within \\boxed{}.\n",
      "\n",
      "Approach:\n",
      "\n"
     ]
    },
    {
     "name": "stderr",
     "output_type": "stream",
     "text": [
      "Setting `pad_token_id` to `eos_token_id`:100001 for open-end generation.\n"
     ]
    },
    {
     "name": "stdout",
     "output_type": "stream",
     "text": [
      "\n",
      "1. Import the `sympy` library.\n",
      "2. Define the mathematical operation `0*10`.\n",
      "3. Print the result of the operation.\n",
      "\n",
      "```python\n",
      "\n",
      "\n",
      "INTERMEDIATE OUT :\n",
      "\n",
      "from sympy import *\n",
      "\n",
      "# Define the operation\n",
      "result = 0 * 10\n",
      "\n",
      "# Print the result\n",
      "print(result)\n",
      "```\n",
      "\n"
     ]
    },
    {
     "name": "stderr",
     "output_type": "stream",
     "text": [
      "Setting `pad_token_id` to `eos_token_id`:100001 for open-end generation.\n"
     ]
    },
    {
     "name": "stdout",
     "output_type": "stream",
     "text": [
      "0\n",
      "\n",
      "CODE RESULTS 0\n"
     ]
    },
    {
     "name": "stderr",
     "output_type": "stream",
     "text": [
      "\n",
      " 26%|██▋       | 5/19 [00:23<01:00,  4.29s/it]\u001b[A"
     ]
    },
    {
     "name": "stdout",
     "output_type": "stream",
     "text": [
      "\n",
      "INTERMEDIATE OUT :\n",
      "```output\n",
      "0\n",
      "```\n",
      "The result of $0\\times10$ is 0. Since 0 is a positive integer, the answer is $\\boxed{0}$. The correct answer of the question \"What is $0\\times10$?\" is 0. So, the answer is $0$.\n",
      "\n",
      "BOXED ['0']\n",
      "BOXED FINAL 0\n",
      "[(0, 4)]\n",
      "GOOD ANSWER UPDATED!\n",
      "code_answers 2 text_answers 2\n",
      "\n",
      "\n",
      "\n",
      "QUESTION 1 - 5 - TIME_SPENT : 349 secs\n",
      "SKIPPING CAUSE ALREADY FOUND BEST\n",
      "\n",
      "\n",
      "\n",
      "QUESTION 1 - 6 - TIME_SPENT : 349 secs\n",
      "SKIPPING CAUSE ALREADY FOUND BEST\n",
      "\n",
      "\n",
      "\n",
      "QUESTION 1 - 7 - TIME_SPENT : 349 secs\n",
      "SKIPPING CAUSE ALREADY FOUND BEST\n",
      "\n",
      "\n",
      "\n",
      "QUESTION 1 - 8 - TIME_SPENT : 349 secs\n",
      "SKIPPING CAUSE ALREADY FOUND BEST\n",
      "\n",
      "\n",
      "\n",
      "QUESTION 1 - 9 - TIME_SPENT : 349 secs\n",
      "SKIPPING CAUSE ALREADY FOUND BEST\n",
      "\n",
      "\n",
      "\n",
      "QUESTION 1 - 10 - TIME_SPENT : 349 secs\n",
      "SKIPPING CAUSE ALREADY FOUND BEST\n",
      "\n",
      "\n",
      "\n",
      "QUESTION 1 - 11 - TIME_SPENT : 349 secs\n",
      "SKIPPING CAUSE ALREADY FOUND BEST\n",
      "\n",
      "\n",
      "\n",
      "QUESTION 1 - 12 - TIME_SPENT : 349 secs\n",
      "SKIPPING CAUSE ALREADY FOUND BEST\n",
      "\n",
      "\n",
      "\n",
      "QUESTION 1 - 13 - TIME_SPENT : 349 secs\n",
      "SKIPPING CAUSE ALREADY FOUND BEST\n",
      "\n",
      "\n",
      "\n",
      "QUESTION 1 - 14 - TIME_SPENT : 349 secs\n",
      "SKIPPING CAUSE ALREADY FOUND BEST\n",
      "\n",
      "\n",
      "\n",
      "QUESTION 1 - 15 - TIME_SPENT : 349 secs\n",
      "SKIPPING CAUSE ALREADY FOUND BEST\n",
      "\n",
      "\n",
      "\n",
      "QUESTION 1 - 16 - TIME_SPENT : 349 secs\n"
     ]
    },
    {
     "name": "stderr",
     "output_type": "stream",
     "text": [
      "Setting `pad_token_id` to `eos_token_id`:100001 for open-end generation.\n"
     ]
    },
    {
     "name": "stdout",
     "output_type": "stream",
     "text": [
      "16_User: Below is a math problem you are to solve (positive numerical answer):\n",
      "\"What is $0\\times10$?\"\n",
      "To accomplish this, first determine a sympy-based approach for solving the problem by listing each step to take and what functions need to be called in each step. Be clear so even an idiot can follow your instructions, and remember, your final answer should be positive integer, not an algebraic expression!\n",
      "Write the entire script covering all the steps (use comments and document it well) and print the result. After solving the problem, output the final numerical answer within \\boxed{}.\n",
      "\n",
      "Approach:\n",
      "\n"
     ]
    },
    {
     "name": "stderr",
     "output_type": "stream",
     "text": [
      "Setting `pad_token_id` to `eos_token_id`:100001 for open-end generation.\n"
     ]
    },
    {
     "name": "stdout",
     "output_type": "stream",
     "text": [
      "\n",
      "To solve this problem using Python's sympy library, we can perform the multiplication directly.\n",
      "\n",
      "```python\n",
      "\n",
      "\n",
      "INTERMEDIATE OUT :\n",
      "\n",
      "from sympy import symbols\n",
      "\n",
      "def calculate_expression():\n",
      "    # Define the variables\n",
      "    x, y = symbols('x y')\n",
      "\n",
      "    # Define the expression\n",
      "    expression = x * y\n",
      "\n",
      "    # Substitute the values of x and y\n",
      "    result = expression.subs({x: 0, y: 10})\n",
      "\n",
      "    return result\n",
      "\n",
      "result = calculate_expression()\n",
      "print(result)\n",
      "```\n",
      "\n"
     ]
    },
    {
     "name": "stderr",
     "output_type": "stream",
     "text": [
      "Setting `pad_token_id` to `eos_token_id`:100001 for open-end generation.\n"
     ]
    },
    {
     "name": "stdout",
     "output_type": "stream",
     "text": [
      "0\n",
      "\n",
      "CODE RESULTS 0\n"
     ]
    },
    {
     "name": "stderr",
     "output_type": "stream",
     "text": [
      " 84%|████████▍ | 16/19 [00:37<00:07,  2.35s/it]\n",
      "2it [03:28, 92.62s/it] "
     ]
    },
    {
     "name": "stdout",
     "output_type": "stream",
     "text": [
      "\n",
      "INTERMEDIATE OUT :\n",
      "```output\n",
      "0\n",
      "```\n",
      "The value of $0 \\times 10$ is 0. Since 0 is a non-negative integer, the final answer is $\\boxed{0}$.\n",
      "The answer is: $0$\n",
      "\n",
      "BOXED ['0']\n",
      "BOXED FINAL 0\n",
      "[(0, 6)]\n",
      "GOOD ANSWER UPDATED!\n",
      "ANSWER FOUND!\n",
      "Predicted best answer: {0: (0, 4), 1: (0, 4)}\n",
      "Solving problem 2 ...\n"
     ]
    },
    {
     "name": "stderr",
     "output_type": "stream",
     "text": [
      "\n",
      "  0%|          | 0/19 [00:00<?, ?it/s]\u001b[A"
     ]
    },
    {
     "name": "stdout",
     "output_type": "stream",
     "text": [
      "\n",
      "\n",
      "\n",
      "QUESTION 2 - 0 - TIME_SPENT : 386 secs\n"
     ]
    },
    {
     "name": "stderr",
     "output_type": "stream",
     "text": [
      "Setting `pad_token_id` to `eos_token_id`:100001 for open-end generation.\n"
     ]
    },
    {
     "name": "stdout",
     "output_type": "stream",
     "text": [
      "0_User: Below is a math problem you are to solve (positive numerical answer):\n",
      "\"Solve $4+x=4$ for $x$.\"\n",
      "To accomplish this, first determine a sympy-based approach for solving the problem by listing each step to take and what functions need to be called in each step. Be clear so even an idiot can follow your instructions, and remember, your final answer should be positive integer, not an algebraic expression!\n",
      "Write the entire script covering all the steps (use comments and document it well) and print the result. After solving the problem, output the final numerical answer within \\boxed{}.\n",
      "\n",
      "Approach:\n",
      "\n"
     ]
    },
    {
     "name": "stderr",
     "output_type": "stream",
     "text": [
      "Setting `pad_token_id` to `eos_token_id`:100001 for open-end generation.\n"
     ]
    },
    {
     "name": "stdout",
     "output_type": "stream",
     "text": [
      "\n",
      "To solve $4+x=4$ for $x$, we need to isolate $x$ on one side of the equation. We can start by subtracting $4$ from both sides of the equation:\n",
      "\n",
      "```python\n",
      "\n",
      "\n",
      "INTERMEDIATE OUT :\n",
      "\n",
      "from sympy import symbols, Eq, solve\n",
      "\n",
      "def solve_equation():\n",
      "    x = symbols('x')\n",
      "    equation = Eq(4 + x, 4)\n",
      "    solution = solve(equation, x)[0]  # Take the first (and only) solution\n",
      "\n",
      "    return solution\n",
      "\n",
      "result = solve_equation()\n",
      "print(result)\n",
      "```\n",
      "\n"
     ]
    },
    {
     "name": "stderr",
     "output_type": "stream",
     "text": [
      "Setting `pad_token_id` to `eos_token_id`:100001 for open-end generation.\n"
     ]
    },
    {
     "name": "stdout",
     "output_type": "stream",
     "text": [
      "0\n",
      "\n",
      "CODE RESULTS 0\n"
     ]
    },
    {
     "name": "stderr",
     "output_type": "stream",
     "text": [
      "\n",
      "  5%|▌         | 1/19 [00:13<04:05, 13.64s/it]\u001b[A"
     ]
    },
    {
     "name": "stdout",
     "output_type": "stream",
     "text": [
      "\n",
      "INTERMEDIATE OUT :\n",
      "```output\n",
      "0\n",
      "```\n",
      "The solution to the equation $4+x=4$ is $x=0$. The answer is: $\\boxed{0}$.\n",
      "\n",
      "BOXED ['0']\n",
      "BOXED FINAL 0\n",
      "[(0, 2)]\n",
      "GOOD ANSWER UPDATED!\n",
      "code_answers 1 text_answers 1\n",
      "\n",
      "\n",
      "\n",
      "QUESTION 2 - 1 - TIME_SPENT : 386 secs\n",
      "SKIPPING CAUSE ALREADY FOUND BEST\n",
      "\n",
      "\n",
      "\n",
      "QUESTION 2 - 2 - TIME_SPENT : 386 secs\n",
      "SKIPPING CAUSE ALREADY FOUND BEST\n",
      "\n",
      "\n",
      "\n",
      "QUESTION 2 - 3 - TIME_SPENT : 386 secs\n",
      "SKIPPING CAUSE ALREADY FOUND BEST\n",
      "\n",
      "\n",
      "\n",
      "QUESTION 2 - 4 - TIME_SPENT : 386 secs\n"
     ]
    },
    {
     "name": "stderr",
     "output_type": "stream",
     "text": [
      "Setting `pad_token_id` to `eos_token_id`:100001 for open-end generation.\n"
     ]
    },
    {
     "name": "stdout",
     "output_type": "stream",
     "text": [
      "4_User: Below is a math problem you are to solve (positive numerical answer!):\n",
      "\"Solve $4+x=4$ for $x$.\"\n",
      "Analyze this problem and think step by step to come to a solution with programs. After solving the problem, output the final numerical answer within \\boxed{}.\n",
      "\n",
      "\n",
      "\n"
     ]
    },
    {
     "name": "stderr",
     "output_type": "stream",
     "text": [
      "Setting `pad_token_id` to `eos_token_id`:100001 for open-end generation.\n"
     ]
    },
    {
     "name": "stdout",
     "output_type": "stream",
     "text": [
      "```python\n",
      "\n",
      "\n",
      "INTERMEDIATE OUT :\n",
      "\n",
      "from sympy import symbols, solve\n",
      "\n",
      "def solve_for_x():\n",
      "    \"\"\"Solve $4+x=4$ for $x$.\"\"\"\n",
      "    x = symbols('x')\n",
      "    equation = 4 + x - 4\n",
      "    solution = solve(equation, x)[0]\n",
      "    return solution\n",
      "\n",
      "result = solve_for_x()\n",
      "print(result)\n",
      "```\n",
      "\n"
     ]
    },
    {
     "name": "stderr",
     "output_type": "stream",
     "text": [
      "Setting `pad_token_id` to `eos_token_id`:100001 for open-end generation.\n"
     ]
    },
    {
     "name": "stdout",
     "output_type": "stream",
     "text": [
      "0\n",
      "\n",
      "CODE RESULTS 0\n"
     ]
    },
    {
     "name": "stderr",
     "output_type": "stream",
     "text": [
      "\n",
      " 26%|██▋       | 5/19 [00:24<01:00,  4.32s/it]\u001b[A"
     ]
    },
    {
     "name": "stdout",
     "output_type": "stream",
     "text": [
      "\n",
      "INTERMEDIATE OUT :\n",
      "```output\n",
      "0\n",
      "```\n",
      "The solution to the equation $4+x=4$ for $x$ is $0$. The answer is: $0$\n",
      "\n",
      "BOXED []\n",
      "BOXED FINAL 0\n",
      "[(0, 4)]\n",
      "GOOD ANSWER UPDATED!\n",
      "code_answers 2 text_answers 2\n",
      "\n",
      "\n",
      "\n",
      "QUESTION 2 - 5 - TIME_SPENT : 386 secs\n",
      "SKIPPING CAUSE ALREADY FOUND BEST\n",
      "\n",
      "\n",
      "\n",
      "QUESTION 2 - 6 - TIME_SPENT : 386 secs\n",
      "SKIPPING CAUSE ALREADY FOUND BEST\n",
      "\n",
      "\n",
      "\n",
      "QUESTION 2 - 7 - TIME_SPENT : 386 secs\n",
      "SKIPPING CAUSE ALREADY FOUND BEST\n",
      "\n",
      "\n",
      "\n",
      "QUESTION 2 - 8 - TIME_SPENT : 386 secs\n",
      "SKIPPING CAUSE ALREADY FOUND BEST\n",
      "\n",
      "\n",
      "\n",
      "QUESTION 2 - 9 - TIME_SPENT : 386 secs\n",
      "SKIPPING CAUSE ALREADY FOUND BEST\n",
      "\n",
      "\n",
      "\n",
      "QUESTION 2 - 10 - TIME_SPENT : 386 secs\n",
      "SKIPPING CAUSE ALREADY FOUND BEST\n",
      "\n",
      "\n",
      "\n",
      "QUESTION 2 - 11 - TIME_SPENT : 386 secs\n",
      "SKIPPING CAUSE ALREADY FOUND BEST\n",
      "\n",
      "\n",
      "\n",
      "QUESTION 2 - 12 - TIME_SPENT : 386 secs\n",
      "SKIPPING CAUSE ALREADY FOUND BEST\n",
      "\n",
      "\n",
      "\n",
      "QUESTION 2 - 13 - TIME_SPENT : 386 secs\n",
      "SKIPPING CAUSE ALREADY FOUND BEST\n",
      "\n",
      "\n",
      "\n",
      "QUESTION 2 - 14 - TIME_SPENT : 386 secs\n",
      "SKIPPING CAUSE ALREADY FOUND BEST\n",
      "\n",
      "\n",
      "\n",
      "QUESTION 2 - 15 - TIME_SPENT : 386 secs\n",
      "SKIPPING CAUSE ALREADY FOUND BEST\n",
      "\n",
      "\n",
      "\n",
      "QUESTION 2 - 16 - TIME_SPENT : 386 secs\n"
     ]
    },
    {
     "name": "stderr",
     "output_type": "stream",
     "text": [
      "Setting `pad_token_id` to `eos_token_id`:100001 for open-end generation.\n"
     ]
    },
    {
     "name": "stdout",
     "output_type": "stream",
     "text": [
      "16_User: Below is a math problem you are to solve (positive numerical answer!):\n",
      "\"Solve $4+x=4$ for $x$.\"\n",
      "Analyze this problem and think step by step to come to a solution with programs. After solving the problem, output the final numerical answer within \\boxed{}.\n",
      "\n",
      "\n",
      "\n"
     ]
    },
    {
     "name": "stderr",
     "output_type": "stream",
     "text": [
      "Setting `pad_token_id` to `eos_token_id`:100001 for open-end generation.\n"
     ]
    },
    {
     "name": "stdout",
     "output_type": "stream",
     "text": [
      "```python\n",
      "\n",
      "\n",
      "INTERMEDIATE OUT :\n",
      "\n",
      "from sympy import symbols, Eq, solve\n",
      "\n",
      "def solve_equation():\n",
      "    \"\"\"Solve $4+x=4$ for $x$.\"\"\"\n",
      "    x = symbols('x')\n",
      "    equation = Eq(4 + x, 4)\n",
      "    solution = solve(equation, x)[0]\n",
      "\n",
      "    return solution\n",
      "\n",
      "result = solve_equation()\n",
      "print(result)\n",
      "```\n",
      "\n"
     ]
    },
    {
     "name": "stderr",
     "output_type": "stream",
     "text": [
      "Setting `pad_token_id` to `eos_token_id`:100001 for open-end generation.\n"
     ]
    },
    {
     "name": "stdout",
     "output_type": "stream",
     "text": [
      "0\n",
      "\n",
      "CODE RESULTS 0\n"
     ]
    },
    {
     "name": "stderr",
     "output_type": "stream",
     "text": [
      " 84%|████████▍ | 16/19 [00:35<00:06,  2.21s/it]\n",
      "3it [04:04, 81.38s/it]"
     ]
    },
    {
     "name": "stdout",
     "output_type": "stream",
     "text": [
      "\n",
      "INTERMEDIATE OUT :\n",
      "```output\n",
      "0\n",
      "```\n",
      "The solution to the equation $4+x=4$ for $x$ is $0$. The answer is: $0$.\n",
      "\n",
      "BOXED []\n",
      "BOXED FINAL 0\n",
      "[(0, 6)]\n",
      "GOOD ANSWER UPDATED!\n",
      "ANSWER FOUND!\n",
      "Predicted best answer: {0: (0, 4), 1: (0, 4), 2: (0, 4)}\n"
     ]
    },
    {
     "name": "stderr",
     "output_type": "stream",
     "text": [
      "\n"
     ]
    }
   ],
   "source": [
    "import re\n",
    "import gc\n",
    "import time\n",
    "from tqdm import tqdm\n",
    "from collections import defaultdict, Counter\n",
    "import numpy as np\n",
    "import pandas as pd\n",
    "from numpy.random import choice\n",
    "\n",
    "tool_instruction = '\\n\\nPlease integrate natural language reasoning with programs to solve the above problem, and put your final numerical answer within \\\\boxed{}.\\nNote that the intermediary calculations may be real numbers, but the final numerical answer would always be an integer.'\n",
    "\n",
    "temperature = 0.9\n",
    "top_p = 1.0\n",
    "\n",
    "temperature_coding = 0.9\n",
    "top_p_coding = 1.0\n",
    "\n",
    "total_results = {}\n",
    "total_answers = {}\n",
    "best_stats = {}\n",
    "total_outputs = {}\n",
    "question_type_counts = {}\n",
    "starting_counts = (2, 3)\n",
    "\n",
    "for i, (test, sample_submission) in tqdm(enumerate(iter_test)):\n",
    "    print(f\"Solving problem {i} ...\")\n",
    "    TIME_SPENT = time.time() - NOTEBOOK_START_TIME\n",
    "\n",
    "    if TIME_SPENT > TIME_LIMIT:\n",
    "        break\n",
    "\n",
    "    for jj in tqdm(range(n_repetitions)):\n",
    "        problem = test['problem'].values[0]\n",
    "        print(f\"\\n\\n\\nQUESTION {i} - {jj} - TIME_SPENT : {TIME_SPENT:.0f} secs\")\n",
    "\n",
    "        best, best_count = best_stats.get(i, (-1, -1))\n",
    "        if best_count > np.sqrt(jj):\n",
    "            print(\"SKIPPING CAUSE ALREADY FOUND BEST\")\n",
    "            continue\n",
    "\n",
    "        outputs = total_outputs.get(i, [])\n",
    "        text_answers, code_answers = question_type_counts.get(i, starting_counts)\n",
    "        results = total_results.get(i, [])\n",
    "        answers = total_answers.get(i, [])\n",
    "\n",
    "        for _ in range(5):\n",
    "            torch.cuda.empty_cache()\n",
    "            gc.collect()\n",
    "            time.sleep(0.2)\n",
    "\n",
    "        try:\n",
    "            ALREADY_GEN = 0\n",
    "            code_error = None\n",
    "            code_error_count = 0\n",
    "            code_output = -1\n",
    "            counts = np.array([text_answers, code_answers])\n",
    "\n",
    "            draw = choice(promplt_options, 1, p=counts / counts.sum())\n",
    "            initail_message = draw[0].format(problem, \"{}\")\n",
    "            prompt = f\"User: {initail_message}\"\n",
    "\n",
    "            current_printed = len(prompt)\n",
    "            print(f\"{jj}_{prompt}\\n\")\n",
    "\n",
    "            model_inputs = tokenizer(prompt, return_tensors='pt').to(model.device)\n",
    "            input_len = len(model_inputs['input_ids'][0])\n",
    "\n",
    "            generation_output = model.generate(**model_inputs,\n",
    "                                               max_new_tokens=TOTAL_TOKENS - ALREADY_GEN,\n",
    "                                               return_dict_in_generate=USE_PAST_KEY,\n",
    "                                               do_sample=True,\n",
    "                                               temperature=temperature,\n",
    "                                               top_p=top_p,\n",
    "                                               num_return_sequences=1, stopping_criteria=stopping_criteria)\n",
    "\n",
    "            if USE_PAST_KEY:\n",
    "                output_ids = generation_output.sequences[0]\n",
    "            else:\n",
    "                output_ids = generation_output[0]\n",
    "            decoded_output = tokenizer.decode(output_ids, skip_special_tokens=True)\n",
    "            print(f\"{decoded_output[current_printed:]}\\n\")\n",
    "            current_printed += len(decoded_output[current_printed:])\n",
    "            cummulative_code = \"\"\n",
    "\n",
    "            stop_word_cond = False\n",
    "            for stop_word in stop_words:\n",
    "                stop_word_cond = stop_word_cond or (decoded_output[-len(stop_word):] == stop_word)\n",
    "\n",
    "            while (stop_word_cond) and (ALREADY_GEN < (TOTAL_TOKENS)):\n",
    "\n",
    "                if (decoded_output[-len(\"```python\"):] == \"```python\"):\n",
    "                    temperature_inner = temperature_coding\n",
    "                    top_p_inner = top_p_coding\n",
    "                    prompt = decoded_output\n",
    "                else:\n",
    "                    temperature_inner = temperature\n",
    "                    top_p_inner = top_p\n",
    "                    try:\n",
    "                        if (decoded_output[-len(\"``````output\"):] == \"``````output\"):\n",
    "                            code_text = decoded_output.split('```python')[-1].split(\"``````\")[0]\n",
    "                        else:\n",
    "                            code_text = decoded_output.split('```python')[-1].split(\"```\")[0]\n",
    "\n",
    "                        cummulative_code += code_text\n",
    "                        code_output, CODE_STATUS = process_code(cummulative_code, return_shell_output=True)\n",
    "                        print('CODE RESULTS', code_output)\n",
    "\n",
    "                        if code_error == code_output:\n",
    "                            code_error_count += 1\n",
    "                        else:\n",
    "                            code_error = code_output\n",
    "                            code_error_count = 0\n",
    "\n",
    "                        if not CODE_STATUS:\n",
    "                            cummulative_code = cummulative_code[:-len(code_text)]\n",
    "\n",
    "                            if code_error_count >= 1:\n",
    "                                print(\"REPEATED ERRORS\")\n",
    "                                break\n",
    "\n",
    "                    except Exception as e:\n",
    "                        print(e)\n",
    "                        print('ERROR PARSING CODE')\n",
    "                        code_output = -1\n",
    "\n",
    "                    if code_output != -1:\n",
    "                        if (decoded_output[-len(\")\\n```\"):] == \")\\n```\"):\n",
    "                            prompt = decoded_output + '```output\\n' + str(code_output) + '\\n```\\n'\n",
    "                        else:\n",
    "                            prompt = decoded_output + '\\n' + str(code_output) + '\\n```\\n'\n",
    "                    else:\n",
    "                        prompt = decoded_output\n",
    "                        cummulative_code = \"\"\n",
    "\n",
    "                model_inputs = tokenizer(prompt, return_tensors='pt').to(model.device)\n",
    "                ALREADY_GEN = len(model_inputs['input_ids'][0]) - input_len\n",
    "\n",
    "                if USE_PAST_KEY:\n",
    "                    old_values = generation_output.past_key_values\n",
    "                else:\n",
    "                    old_values = None\n",
    "\n",
    "                generation_output = model.generate(**model_inputs,\n",
    "                                                   max_new_tokens=TOTAL_TOKENS - ALREADY_GEN,\n",
    "                                                   return_dict_in_generate=USE_PAST_KEY,\n",
    "                                                   past_key_values=old_values,\n",
    "                                                   do_sample=True,\n",
    "                                                   temperature=temperature_inner,\n",
    "                                                   top_p=top_p_inner,\n",
    "                                                   num_return_sequences=1, stopping_criteria=stopping_criteria)\n",
    "\n",
    "                if USE_PAST_KEY:\n",
    "                    output_ids = generation_output.sequences[0]\n",
    "                else:\n",
    "                    output_ids = generation_output[0]\n",
    "                decoded_output = tokenizer.decode(output_ids, skip_special_tokens=True)\n",
    "                print(f\"\\nINTERMEDIATE OUT :\\n{decoded_output[current_printed:]}\\n\")\n",
    "                current_printed += len(decoded_output[current_printed:])\n",
    "\n",
    "                stop_word_cond = False\n",
    "                for stop_word in stop_words:\n",
    "                    stop_word_cond = stop_word_cond or (decoded_output[-len(stop_word):] == stop_word)\n",
    "\n",
    "            if USE_PAST_KEY:\n",
    "                output_ids = generation_output.sequences[0]\n",
    "            else:\n",
    "                output_ids = generation_output[0]\n",
    "\n",
    "            raw_output = tokenizer.decode(output_ids[input_len:], skip_special_tokens=True)\n",
    "            result_output = process_text_output(raw_output)\n",
    "\n",
    "            try:\n",
    "                code_output = round(float(eval(code_output))) % 1000\n",
    "            except Exception as e:\n",
    "                print(e, 'final_eval')\n",
    "                code_output = -1\n",
    "\n",
    "        except Exception as e:\n",
    "            print(e, \"5\")\n",
    "            result_output, code_output = -1, -1\n",
    "\n",
    "        if code_output != -1:\n",
    "            outputs.append(code_output)\n",
    "            code_answers += 1\n",
    "\n",
    "        if result_output != -1:\n",
    "            outputs.append(result_output)\n",
    "            text_answers += 1\n",
    "\n",
    "        if len(outputs) > 0:\n",
    "            occurrences = Counter(outputs).most_common()\n",
    "            print(occurrences)\n",
    "            if occurrences[0][1] > best_count:\n",
    "                print(\"GOOD ANSWER UPDATED!\")\n",
    "                best = occurrences[0][0]\n",
    "                best_count = occurrences[0][1]\n",
    "            if occurrences[0][1] > 5:\n",
    "                print(\"ANSWER FOUND!\")\n",
    "                break\n",
    "\n",
    "        results.append(result_output)\n",
    "        answers.append(code_output)\n",
    "\n",
    "        best_stats[i] = (best, best_count)\n",
    "        question_type_counts[i] = (text_answers, code_answers)\n",
    "        total_outputs[i] = outputs\n",
    "\n",
    "        total_results[i] = results\n",
    "        total_answers[i] = answers\n",
    "\n",
    "        print(\"code_answers\", code_answers - starting_counts[1], \"text_answers\", text_answers - starting_counts[0])\n",
    "        if DEBUG:\n",
    "            break\n",
    "\n",
    "    print(f\"Predicted best answer: {best_stats}\")\n",
    "    sample_submission['answer'] = best_stats[i][0]\n",
    "    env.predict(sample_submission)\n",
    "    \n"
   ]
  },
  {
   "cell_type": "code",
   "execution_count": 16,
   "id": "7b6ad0f7",
   "metadata": {
    "execution": {
     "iopub.execute_input": "2024-06-12T15:26:33.799800Z",
     "iopub.status.busy": "2024-06-12T15:26:33.799516Z",
     "iopub.status.idle": "2024-06-12T15:26:33.803649Z",
     "shell.execute_reply": "2024-06-12T15:26:33.802865Z"
    },
    "papermill": {
     "duration": 0.030422,
     "end_time": "2024-06-12T15:26:33.805522",
     "exception": false,
     "start_time": "2024-06-12T15:26:33.775100",
     "status": "completed"
    },
    "tags": []
   },
   "outputs": [],
   "source": [
    "# import numpy as np\n",
    "# if PRIVATE:\n",
    "#     for ii in range(len(df)):\n",
    "#         a = total_answers[ii]\n",
    "#         b = total_answers[ii]\n",
    "#         a = np.array(a)\n",
    "#         b = np.array(b)\n",
    "#         print(a,b)\n",
    "#         a[a < 0] = b[a < 0]\n",
    "\n",
    "#         pred = Counter(a.tolist()).most_common(2)\n",
    "#         print(pred)"
   ]
  },
  {
   "cell_type": "code",
   "execution_count": 17,
   "id": "582b6829",
   "metadata": {
    "execution": {
     "iopub.execute_input": "2024-06-12T15:26:33.853064Z",
     "iopub.status.busy": "2024-06-12T15:26:33.852765Z",
     "iopub.status.idle": "2024-06-12T15:26:33.856487Z",
     "shell.execute_reply": "2024-06-12T15:26:33.855711Z"
    },
    "papermill": {
     "duration": 0.02953,
     "end_time": "2024-06-12T15:26:33.858386",
     "exception": false,
     "start_time": "2024-06-12T15:26:33.828856",
     "status": "completed"
    },
    "tags": []
   },
   "outputs": [],
   "source": [
    "# if PRIVATE:\n",
    "#     df['answer'] = [best_stats[ii][0] for ii in range(len(df))]\n",
    "# else:\n",
    "#     df['answer'] = 2"
   ]
  },
  {
   "cell_type": "code",
   "execution_count": 18,
   "id": "55669eef",
   "metadata": {
    "execution": {
     "iopub.execute_input": "2024-06-12T15:26:33.911508Z",
     "iopub.status.busy": "2024-06-12T15:26:33.911225Z",
     "iopub.status.idle": "2024-06-12T15:26:33.916030Z",
     "shell.execute_reply": "2024-06-12T15:26:33.914960Z"
    },
    "papermill": {
     "duration": 0.036784,
     "end_time": "2024-06-12T15:26:33.918347",
     "exception": false,
     "start_time": "2024-06-12T15:26:33.881563",
     "status": "completed"
    },
    "tags": []
   },
   "outputs": [],
   "source": [
    "# df[['id','answer']].to_csv(\"foo.csv\", header=True, index=False)"
   ]
  },
  {
   "cell_type": "code",
   "execution_count": 19,
   "id": "b89340c8",
   "metadata": {
    "execution": {
     "iopub.execute_input": "2024-06-12T15:26:33.975558Z",
     "iopub.status.busy": "2024-06-12T15:26:33.974782Z",
     "iopub.status.idle": "2024-06-12T15:26:33.979042Z",
     "shell.execute_reply": "2024-06-12T15:26:33.978082Z"
    },
    "papermill": {
     "duration": 0.035109,
     "end_time": "2024-06-12T15:26:33.981166",
     "exception": false,
     "start_time": "2024-06-12T15:26:33.946057",
     "status": "completed"
    },
    "tags": []
   },
   "outputs": [],
   "source": [
    "# if not PRIVATE:\n",
    "#     df = pd.read_csv('/kaggle/input/ai-mathematical-olympiad-prize/train.csv')\n",
    "#     if PRIVATE:\n",
    "#         df['model_answer'] = [best_stats[ii][0] for ii in range(len(df))]\n",
    "#         df['match'] = df.answer == df.model_answer\n",
    "#         print(f'{df.match.sum()} matches in {len(df)} examples')"
   ]
  },
  {
   "cell_type": "code",
   "execution_count": 20,
   "id": "9b17c4e4",
   "metadata": {
    "execution": {
     "iopub.execute_input": "2024-06-12T15:26:34.029203Z",
     "iopub.status.busy": "2024-06-12T15:26:34.028917Z",
     "iopub.status.idle": "2024-06-12T15:26:34.137054Z",
     "shell.execute_reply": "2024-06-12T15:26:34.136085Z"
    },
    "papermill": {
     "duration": 0.134055,
     "end_time": "2024-06-12T15:26:34.139004",
     "exception": false,
     "start_time": "2024-06-12T15:26:34.004949",
     "status": "completed"
    },
    "tags": []
   },
   "outputs": [
    {
     "name": "stdout",
     "output_type": "stream",
     "text": [
      "done\n",
      "\n"
     ]
    }
   ],
   "source": [
    "with open('code.py', 'w') as fout:\n",
    "    fout.write(\"print('done')\")\n",
    "\n",
    "batcmd = 'timeout 7 ' + sys.executable + ' code.py'\n",
    "try:\n",
    "    shell_output = subprocess.check_output(batcmd, shell=True).decode('utf8')\n",
    "    print(shell_output)\n",
    "except:\n",
    "    pass"
   ]
  },
  {
   "cell_type": "code",
   "execution_count": null,
   "id": "b9a70565",
   "metadata": {
    "papermill": {
     "duration": 0.023073,
     "end_time": "2024-06-12T15:26:34.185638",
     "exception": false,
     "start_time": "2024-06-12T15:26:34.162565",
     "status": "completed"
    },
    "tags": []
   },
   "outputs": [],
   "source": []
  }
 ],
 "metadata": {
  "kaggle": {
   "accelerator": "nvidiaTeslaT4",
   "dataSources": [
    {
     "databundleVersionId": 8365361,
     "sourceId": 73231,
     "sourceType": "competition"
    },
    {
     "datasetId": 4281572,
     "sourceId": 7369493,
     "sourceType": "datasetVersion"
    },
    {
     "datasetId": 4720595,
     "sourceId": 8012825,
     "sourceType": "datasetVersion"
    },
    {
     "datasetId": 4728129,
     "sourceId": 8023365,
     "sourceType": "datasetVersion"
    },
    {
     "datasetId": 4748944,
     "sourceId": 8052555,
     "sourceType": "datasetVersion"
    },
    {
     "modelInstanceId": 8332,
     "sourceId": 11261,
     "sourceType": "modelInstanceVersion"
    },
    {
     "modelInstanceId": 8318,
     "sourceId": 11264,
     "sourceType": "modelInstanceVersion"
    }
   ],
   "dockerImageVersionId": 30699,
   "isGpuEnabled": true,
   "isInternetEnabled": false,
   "language": "python",
   "sourceType": "notebook"
  },
  "kernelspec": {
   "display_name": "Python 3",
   "language": "python",
   "name": "python3"
  },
  "language_info": {
   "codemirror_mode": {
    "name": "ipython",
    "version": 3
   },
   "file_extension": ".py",
   "mimetype": "text/x-python",
   "name": "python",
   "nbconvert_exporter": "python",
   "pygments_lexer": "ipython3",
   "version": "3.10.13"
  },
  "papermill": {
   "default_parameters": {},
   "duration": 428.466013,
   "end_time": "2024-06-12T15:26:37.542769",
   "environment_variables": {},
   "exception": null,
   "input_path": "__notebook__.ipynb",
   "output_path": "__notebook__.ipynb",
   "parameters": {},
   "start_time": "2024-06-12T15:19:29.076756",
   "version": "2.5.0"
  },
  "widgets": {
   "application/vnd.jupyter.widget-state+json": {
    "state": {
     "0c595766f3bd420eb4b95363c9147f3c": {
      "model_module": "@jupyter-widgets/controls",
      "model_module_version": "1.5.0",
      "model_name": "HTMLModel",
      "state": {
       "_dom_classes": [],
       "_model_module": "@jupyter-widgets/controls",
       "_model_module_version": "1.5.0",
       "_model_name": "HTMLModel",
       "_view_count": null,
       "_view_module": "@jupyter-widgets/controls",
       "_view_module_version": "1.5.0",
       "_view_name": "HTMLView",
       "description": "",
       "description_tooltip": null,
       "layout": "IPY_MODEL_a64165b62fec413ab2006bf690931a7c",
       "placeholder": "​",
       "style": "IPY_MODEL_448f4a77dc204eed95c47de33ae03fa8",
       "value": " 3/3 [02:36&lt;00:00, 50.23s/it]"
      }
     },
     "12adf0d3369e465cabe36794c2f30c5f": {
      "model_module": "@jupyter-widgets/controls",
      "model_module_version": "1.5.0",
      "model_name": "ProgressStyleModel",
      "state": {
       "_model_module": "@jupyter-widgets/controls",
       "_model_module_version": "1.5.0",
       "_model_name": "ProgressStyleModel",
       "_view_count": null,
       "_view_module": "@jupyter-widgets/base",
       "_view_module_version": "1.2.0",
       "_view_name": "StyleView",
       "bar_color": null,
       "description_width": ""
      }
     },
     "133439ac29994f47b360500401980f9e": {
      "model_module": "@jupyter-widgets/controls",
      "model_module_version": "1.5.0",
      "model_name": "DescriptionStyleModel",
      "state": {
       "_model_module": "@jupyter-widgets/controls",
       "_model_module_version": "1.5.0",
       "_model_name": "DescriptionStyleModel",
       "_view_count": null,
       "_view_module": "@jupyter-widgets/base",
       "_view_module_version": "1.2.0",
       "_view_name": "StyleView",
       "description_width": ""
      }
     },
     "1ef5de39213449c6a81ef71669bd9c57": {
      "model_module": "@jupyter-widgets/base",
      "model_module_version": "1.2.0",
      "model_name": "LayoutModel",
      "state": {
       "_model_module": "@jupyter-widgets/base",
       "_model_module_version": "1.2.0",
       "_model_name": "LayoutModel",
       "_view_count": null,
       "_view_module": "@jupyter-widgets/base",
       "_view_module_version": "1.2.0",
       "_view_name": "LayoutView",
       "align_content": null,
       "align_items": null,
       "align_self": null,
       "border": null,
       "bottom": null,
       "display": null,
       "flex": null,
       "flex_flow": null,
       "grid_area": null,
       "grid_auto_columns": null,
       "grid_auto_flow": null,
       "grid_auto_rows": null,
       "grid_column": null,
       "grid_gap": null,
       "grid_row": null,
       "grid_template_areas": null,
       "grid_template_columns": null,
       "grid_template_rows": null,
       "height": null,
       "justify_content": null,
       "justify_items": null,
       "left": null,
       "margin": null,
       "max_height": null,
       "max_width": null,
       "min_height": null,
       "min_width": null,
       "object_fit": null,
       "object_position": null,
       "order": null,
       "overflow": null,
       "overflow_x": null,
       "overflow_y": null,
       "padding": null,
       "right": null,
       "top": null,
       "visibility": null,
       "width": null
      }
     },
     "22e53ca4e3a24b91a74b9b3aab1ef125": {
      "model_module": "@jupyter-widgets/controls",
      "model_module_version": "1.5.0",
      "model_name": "HBoxModel",
      "state": {
       "_dom_classes": [],
       "_model_module": "@jupyter-widgets/controls",
       "_model_module_version": "1.5.0",
       "_model_name": "HBoxModel",
       "_view_count": null,
       "_view_module": "@jupyter-widgets/controls",
       "_view_module_version": "1.5.0",
       "_view_name": "HBoxView",
       "box_style": "",
       "children": [
        "IPY_MODEL_5a760f067db2434490bc517b55460a0c",
        "IPY_MODEL_b30f448ab07c4bfaa0da54bb62265c66",
        "IPY_MODEL_0c595766f3bd420eb4b95363c9147f3c"
       ],
       "layout": "IPY_MODEL_e1c15092b29f416cbe05ba2afa856cf8"
      }
     },
     "448f4a77dc204eed95c47de33ae03fa8": {
      "model_module": "@jupyter-widgets/controls",
      "model_module_version": "1.5.0",
      "model_name": "DescriptionStyleModel",
      "state": {
       "_model_module": "@jupyter-widgets/controls",
       "_model_module_version": "1.5.0",
       "_model_name": "DescriptionStyleModel",
       "_view_count": null,
       "_view_module": "@jupyter-widgets/base",
       "_view_module_version": "1.2.0",
       "_view_name": "StyleView",
       "description_width": ""
      }
     },
     "5a760f067db2434490bc517b55460a0c": {
      "model_module": "@jupyter-widgets/controls",
      "model_module_version": "1.5.0",
      "model_name": "HTMLModel",
      "state": {
       "_dom_classes": [],
       "_model_module": "@jupyter-widgets/controls",
       "_model_module_version": "1.5.0",
       "_model_name": "HTMLModel",
       "_view_count": null,
       "_view_module": "@jupyter-widgets/controls",
       "_view_module_version": "1.5.0",
       "_view_name": "HTMLView",
       "description": "",
       "description_tooltip": null,
       "layout": "IPY_MODEL_1ef5de39213449c6a81ef71669bd9c57",
       "placeholder": "​",
       "style": "IPY_MODEL_133439ac29994f47b360500401980f9e",
       "value": "Loading checkpoint shards: 100%"
      }
     },
     "5bf5842a8090411b91226e08eeede26a": {
      "model_module": "@jupyter-widgets/base",
      "model_module_version": "1.2.0",
      "model_name": "LayoutModel",
      "state": {
       "_model_module": "@jupyter-widgets/base",
       "_model_module_version": "1.2.0",
       "_model_name": "LayoutModel",
       "_view_count": null,
       "_view_module": "@jupyter-widgets/base",
       "_view_module_version": "1.2.0",
       "_view_name": "LayoutView",
       "align_content": null,
       "align_items": null,
       "align_self": null,
       "border": null,
       "bottom": null,
       "display": null,
       "flex": null,
       "flex_flow": null,
       "grid_area": null,
       "grid_auto_columns": null,
       "grid_auto_flow": null,
       "grid_auto_rows": null,
       "grid_column": null,
       "grid_gap": null,
       "grid_row": null,
       "grid_template_areas": null,
       "grid_template_columns": null,
       "grid_template_rows": null,
       "height": null,
       "justify_content": null,
       "justify_items": null,
       "left": null,
       "margin": null,
       "max_height": null,
       "max_width": null,
       "min_height": null,
       "min_width": null,
       "object_fit": null,
       "object_position": null,
       "order": null,
       "overflow": null,
       "overflow_x": null,
       "overflow_y": null,
       "padding": null,
       "right": null,
       "top": null,
       "visibility": null,
       "width": null
      }
     },
     "a64165b62fec413ab2006bf690931a7c": {
      "model_module": "@jupyter-widgets/base",
      "model_module_version": "1.2.0",
      "model_name": "LayoutModel",
      "state": {
       "_model_module": "@jupyter-widgets/base",
       "_model_module_version": "1.2.0",
       "_model_name": "LayoutModel",
       "_view_count": null,
       "_view_module": "@jupyter-widgets/base",
       "_view_module_version": "1.2.0",
       "_view_name": "LayoutView",
       "align_content": null,
       "align_items": null,
       "align_self": null,
       "border": null,
       "bottom": null,
       "display": null,
       "flex": null,
       "flex_flow": null,
       "grid_area": null,
       "grid_auto_columns": null,
       "grid_auto_flow": null,
       "grid_auto_rows": null,
       "grid_column": null,
       "grid_gap": null,
       "grid_row": null,
       "grid_template_areas": null,
       "grid_template_columns": null,
       "grid_template_rows": null,
       "height": null,
       "justify_content": null,
       "justify_items": null,
       "left": null,
       "margin": null,
       "max_height": null,
       "max_width": null,
       "min_height": null,
       "min_width": null,
       "object_fit": null,
       "object_position": null,
       "order": null,
       "overflow": null,
       "overflow_x": null,
       "overflow_y": null,
       "padding": null,
       "right": null,
       "top": null,
       "visibility": null,
       "width": null
      }
     },
     "b30f448ab07c4bfaa0da54bb62265c66": {
      "model_module": "@jupyter-widgets/controls",
      "model_module_version": "1.5.0",
      "model_name": "FloatProgressModel",
      "state": {
       "_dom_classes": [],
       "_model_module": "@jupyter-widgets/controls",
       "_model_module_version": "1.5.0",
       "_model_name": "FloatProgressModel",
       "_view_count": null,
       "_view_module": "@jupyter-widgets/controls",
       "_view_module_version": "1.5.0",
       "_view_name": "ProgressView",
       "bar_style": "success",
       "description": "",
       "description_tooltip": null,
       "layout": "IPY_MODEL_5bf5842a8090411b91226e08eeede26a",
       "max": 3.0,
       "min": 0.0,
       "orientation": "horizontal",
       "style": "IPY_MODEL_12adf0d3369e465cabe36794c2f30c5f",
       "value": 3.0
      }
     },
     "e1c15092b29f416cbe05ba2afa856cf8": {
      "model_module": "@jupyter-widgets/base",
      "model_module_version": "1.2.0",
      "model_name": "LayoutModel",
      "state": {
       "_model_module": "@jupyter-widgets/base",
       "_model_module_version": "1.2.0",
       "_model_name": "LayoutModel",
       "_view_count": null,
       "_view_module": "@jupyter-widgets/base",
       "_view_module_version": "1.2.0",
       "_view_name": "LayoutView",
       "align_content": null,
       "align_items": null,
       "align_self": null,
       "border": null,
       "bottom": null,
       "display": null,
       "flex": null,
       "flex_flow": null,
       "grid_area": null,
       "grid_auto_columns": null,
       "grid_auto_flow": null,
       "grid_auto_rows": null,
       "grid_column": null,
       "grid_gap": null,
       "grid_row": null,
       "grid_template_areas": null,
       "grid_template_columns": null,
       "grid_template_rows": null,
       "height": null,
       "justify_content": null,
       "justify_items": null,
       "left": null,
       "margin": null,
       "max_height": null,
       "max_width": null,
       "min_height": null,
       "min_width": null,
       "object_fit": null,
       "object_position": null,
       "order": null,
       "overflow": null,
       "overflow_x": null,
       "overflow_y": null,
       "padding": null,
       "right": null,
       "top": null,
       "visibility": null,
       "width": null
      }
     }
    },
    "version_major": 2,
    "version_minor": 0
   }
  }
 },
 "nbformat": 4,
 "nbformat_minor": 5
}
